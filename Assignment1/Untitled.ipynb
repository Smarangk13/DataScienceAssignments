{
 "cells": [
  {
   "cell_type": "code",
   "execution_count": 13,
   "metadata": {},
   "outputs": [],
   "source": [
    "# -*- coding: utf-8 -*-\n",
    "\"\"\"\n",
    "Created on Mon Nov  5 14:37:29 2018\n",
    "\n",
    "@author: epinsky\n",
    "this scripts reads your ticker file (e.g. MSFT.csv) and\n",
    "constructs a list of lines\n",
    "\"\"\"\n",
    "import os\n",
    "\n",
    "ticker='JBL'\n",
    "# input_dir = r'C:\\Users\\epinsky\\bu\\python\\data_science_with_Python\\datasets'\n",
    "ticker_file = os.path.join(ticker + '.csv')\n"
   ]
  },
  {
   "cell_type": "code",
   "execution_count": 14,
   "metadata": {},
   "outputs": [
    {
     "name": "stdout",
     "output_type": "stream",
     "text": [
      "opened file for ticker:  JBL\n"
     ]
    }
   ],
   "source": [
    "try:   \n",
    "    with open(ticker_file) as f:\n",
    "        lines = f.read().splitlines()\n",
    "    print('opened file for ticker: ', ticker)\n",
    "    \n",
    "\n",
    "except Exception as e:\n",
    "    print(e)\n",
    "    print('failed to read stock data for ticker: ', ticker)\n",
    "    sys.exit()\n"
   ]
  },
  {
   "cell_type": "code",
   "execution_count": 15,
   "metadata": {},
   "outputs": [],
   "source": [
    "\"\"\"    your code for assignment 1 goes here\n",
    "    \"\"\"\n",
    "days = []\n",
    "for line in lines:\n",
    "    days.append(line.split(','))\n"
   ]
  },
  {
   "cell_type": "code",
   "execution_count": 16,
   "metadata": {},
   "outputs": [],
   "source": [
    "openIndex = 7\n",
    "adjCloseIndex = 12\n",
    "longProfit = []\n",
    "longTotal = 0\n",
    "shortProfit = []\n",
    "shortTotal = 0"
   ]
  },
  {
   "cell_type": "code",
   "execution_count": 21,
   "metadata": {},
   "outputs": [],
   "source": [
    "def longBuy(prevValue,openValue,closeValue,trsh = 0):\n",
    "    stocks = 0\n",
    "    if (openValue-prevValue)/prevValue*100 > trsh:\n",
    "#         not needed but if used in future\n",
    "        purchase = 100\n",
    "        stocks = purchase/openValue\n",
    "        sales = stocks * closeValue\n",
    "        profit = sales-purchase\n",
    "        \n",
    "        return profit\n",
    "        \n",
    "    else:\n",
    "        return 0"
   ]
  },
  {
   "cell_type": "code",
   "execution_count": 22,
   "metadata": {},
   "outputs": [],
   "source": [
    "def shortSell(prevValue,openValue,closeValue,trsh = 0):\n",
    "    stocks = 0\n",
    "    if (prevValue-openValue)/prevValue*100 > trsh:\n",
    "        # not needed but if used in future\n",
    "        purchase = 100\n",
    "        stocks = purchase/openValue\n",
    "        sales = stocks * closeValue\n",
    "        profit = sales-purchase\n",
    "        \n",
    "        #per share profit/loss\n",
    "#         pershare = openValue - closeValue\n",
    "        return profit\n",
    "        \n",
    "    else:\n",
    "        return 0"
   ]
  },
  {
   "cell_type": "code",
   "execution_count": 23,
   "metadata": {},
   "outputs": [],
   "source": [
    "prevClose = days[1][adjCloseIndex]\n",
    "profit = 100\n",
    "for i in range(2,len(days)):\n",
    "    if prevClose > days[i][openIndex]:\n",
    "        moneyMade = longBuy(float(prevClose), float(days[i][openIndex]), float(days[i][adjCloseIndex]))\n",
    "        longTotal += moneyMade\n",
    "        longProfit.append(moneyMade)\n",
    "        \n",
    "    elif prevClose < days[i][openIndex]:\n",
    "        moneyMade = shortSell(float(prevClose), float(days[i][openIndex]), float(days[i][adjCloseIndex]))\n",
    "        shortTotal += moneyMade\n",
    "        shortProfit.append(moneyMade)\n",
    "        \n",
    "        \n",
    "    prevClose = days[i][adjCloseIndex]"
   ]
  },
  {
   "cell_type": "code",
   "execution_count": 24,
   "metadata": {},
   "outputs": [
    {
     "name": "stdout",
     "output_type": "stream",
     "text": [
      "0 0\n",
      "1511 146 2870\n"
     ]
    }
   ],
   "source": [
    "print(longTotal,shortTotal)\n",
    "print(len(days),len(longProfit),len(shortProfit))"
   ]
  },
  {
   "cell_type": "code",
   "execution_count": null,
   "metadata": {},
   "outputs": [],
   "source": []
  }
 ],
 "metadata": {
  "kernelspec": {
   "display_name": "Python 3",
   "language": "python",
   "name": "python3"
  },
  "language_info": {
   "codemirror_mode": {
    "name": "ipython",
    "version": 3
   },
   "file_extension": ".py",
   "mimetype": "text/x-python",
   "name": "python",
   "nbconvert_exporter": "python",
   "pygments_lexer": "ipython3",
   "version": "3.7.4"
  }
 },
 "nbformat": 4,
 "nbformat_minor": 2
}
