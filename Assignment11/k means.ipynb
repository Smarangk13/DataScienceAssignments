{
 "cells": [
  {
   "cell_type": "code",
   "execution_count": 1,
   "metadata": {},
   "outputs": [],
   "source": [
    "import pandas as pd\n",
    "import matplotlib.pyplot as plt\n",
    "import numpy as np\n",
    "from sklearn.cluster import KMeans\n",
    "from scipy.spatial.distance import cdist\n",
    "from sklearn import preprocessing\n"
   ]
  },
  {
   "cell_type": "code",
   "execution_count": 2,
   "metadata": {},
   "outputs": [],
   "source": [
    "fileName = \"KOLabels.csv\"\n",
    "df = pd.read_csv(fileName)\n",
    "\n",
    "x = df[['Mean','SD']].values\n",
    "min_max_scaler = preprocessing.MinMaxScaler()\n",
    "x_scaled = min_max_scaler.fit_transform(x)\n",
    "df[['Mean','SD']] = pd.DataFrame(x_scaled)\n",
    "\n",
    "df2018 = df[:53]\n",
    "df2019 = df[53:].reset_index(drop = True)"
   ]
  },
  {
   "cell_type": "code",
   "execution_count": 3,
   "metadata": {},
   "outputs": [],
   "source": [
    "kmeans = KMeans(n_clusters = 3, random_state = 0)"
   ]
  },
  {
   "cell_type": "code",
   "execution_count": 4,
   "metadata": {},
   "outputs": [],
   "source": [
    "X_train = np.array(df2018[['Mean','SD']])"
   ]
  },
  {
   "cell_type": "code",
   "execution_count": 5,
   "metadata": {},
   "outputs": [
    {
     "data": {
      "text/plain": [
       "KMeans(algorithm='auto', copy_x=True, init='k-means++', max_iter=300,\n",
       "       n_clusters=3, n_init=10, n_jobs=None, precompute_distances='auto',\n",
       "       random_state=0, tol=0.0001, verbose=0)"
      ]
     },
     "execution_count": 5,
     "metadata": {},
     "output_type": "execute_result"
    }
   ],
   "source": [
    "kmeans.fit(X_train)"
   ]
  },
  {
   "cell_type": "code",
   "execution_count": 6,
   "metadata": {},
   "outputs": [
    {
     "name": "stdout",
     "output_type": "stream",
     "text": [
      "Question 1\n"
     ]
    }
   ],
   "source": [
    "#Question 1\n",
    "print('Question 1')\n",
    "distortions = []\n",
    "kModels = []\n",
    "for k in range(1,9):\n",
    "    kmeanModel = KMeans(n_clusters=k)\n",
    "    kmeanModel.fit(X_train)\n",
    "    kModels.append(kmeanModel)\n",
    "    distortions.append(sum(np.min(cdist(X_train, kmeanModel.cluster_centers_, 'euclidean'), axis=1)) / X_train.shape[0])\n",
    "\n"
   ]
  },
  {
   "cell_type": "code",
   "execution_count": 7,
   "metadata": {},
   "outputs": [
    {
     "data": {
      "image/png": "[encoded data removed]",
      "text/plain": [
       "<Figure size 432x288 with 1 Axes>"
      ]
     },
     "metadata": {
      "needs_background": "light"
     },
     "output_type": "display_data"
    }
   ],
   "source": [
    "# Plot the elbow\n",
    "plt.plot([k for k in range(1,9)], distortions, 'bx-')\n",
    "plt.xlabel('k')\n",
    "plt.ylabel('Distortion')\n",
    "plt.title('The knee shaped graph')\n",
    "plt.show()"
   ]
  },
  {
   "cell_type": "code",
   "execution_count": 24,
   "metadata": {},
   "outputs": [
    {
     "name": "stdout",
     "output_type": "stream",
     "text": [
      "We can see that the best k is 3 or 4, we will take 4\n"
     ]
    }
   ],
   "source": [
    "print('We can see that the best k is 3 or 4, we will take 4')"
   ]
  },
  {
   "cell_type": "code",
   "execution_count": 10,
   "metadata": {},
   "outputs": [],
   "source": [
    "k = 4\n",
    "reds = [0 for i in range(k)]\n",
    "greens = [0 for i in range(k)]"
   ]
  },
  {
   "cell_type": "code",
   "execution_count": 12,
   "metadata": {},
   "outputs": [
    {
     "data": {
      "text/plain": [
       "array([[0.16542805, 0.67145289],\n",
       "       [0.28938069, 0.33961451],\n",
       "       [0.58142077, 0.11869735],\n",
       "       [0.61403279, 0.46891213]])"
      ]
     },
     "execution_count": 12,
     "metadata": {},
     "output_type": "execute_result"
    }
   ],
   "source": [
    "kModels[3].cluster_centers_"
   ]
  },
  {
   "cell_type": "code",
   "execution_count": null,
   "metadata": {},
   "outputs": [],
   "source": [
    "# Question 2\n",
    "print('\\nQuestion 2')\n",
    "kmeanModel = kModels[k-1]\n",
    "\n",
    "for i in range (len(df2019)):\n",
    "    x = np.array(df2019[i:i+1][['Mean','SD']])\n",
    "    close = kmeanModel.predict(x)\n",
    "    \n",
    "    close = int(close)\n",
    "    if df2019.at[i,'Label'] == 'Good':\n",
    "        reds[close] += 1\n",
    "    else:\n",
    "        greens[close] += 1\n",
    "    "
   ]
  },
  {
   "cell_type": "code",
   "execution_count": 21,
   "metadata": {
    "scrolled": true
   },
   "outputs": [
    {
     "name": "stdout",
     "output_type": "stream",
     "text": [
      "\n",
      "Question 2\n",
      "['0', '55.56', '14.04', '70.37']\n"
     ]
    }
   ],
   "source": [
    "redPercents = []\n",
    "greenPercents = []\n",
    "for i in range(k):\n",
    "    res = '0'\n",
    "    if (greens[i]+reds[i]) != 0:\n",
    "        res = reds[i]/(greens[i] + reds[i]) * 100\n",
    "        '{0:.2f}'.format(res)\n",
    "        greenPercents.append('{0:.2f}'.format(100-res))\n",
    "    else:\n",
    "        greenPercents.append(res)\n",
    "    redPercents.append(res)\n",
    "        \n",
    "print(greenPercents)"
   ]
  },
  {
   "cell_type": "code",
   "execution_count": 22,
   "metadata": {},
   "outputs": [
    {
     "data": {
      "text/html": [
       "<div>\n",
       "<style scoped>\n",
       "    .dataframe tbody tr th:only-of-type {\n",
       "        vertical-align: middle;\n",
       "    }\n",
       "\n",
       "    .dataframe tbody tr th {\n",
       "        vertical-align: top;\n",
       "    }\n",
       "\n",
       "    .dataframe thead th {\n",
       "        text-align: right;\n",
       "    }\n",
       "</style>\n",
       "<table border=\"1\" class=\"dataframe\">\n",
       "  <thead>\n",
       "    <tr style=\"text-align: right;\">\n",
       "      <th></th>\n",
       "      <th>Greens Percentage</th>\n",
       "      <th>Reds Percentage</th>\n",
       "    </tr>\n",
       "  </thead>\n",
       "  <tbody>\n",
       "    <tr>\n",
       "      <th>0</th>\n",
       "      <td>0</td>\n",
       "      <td>0</td>\n",
       "    </tr>\n",
       "    <tr>\n",
       "      <th>1</th>\n",
       "      <td>55.56</td>\n",
       "      <td>44.4444</td>\n",
       "    </tr>\n",
       "    <tr>\n",
       "      <th>2</th>\n",
       "      <td>14.04</td>\n",
       "      <td>85.9649</td>\n",
       "    </tr>\n",
       "    <tr>\n",
       "      <th>3</th>\n",
       "      <td>70.37</td>\n",
       "      <td>29.6296</td>\n",
       "    </tr>\n",
       "  </tbody>\n",
       "</table>\n",
       "</div>"
      ],
      "text/plain": [
       "  Greens Percentage Reds Percentage\n",
       "0                 0               0\n",
       "1             55.56         44.4444\n",
       "2             14.04         85.9649\n",
       "3             70.37         29.6296"
      ]
     },
     "execution_count": 22,
     "metadata": {},
     "output_type": "execute_result"
    }
   ],
   "source": [
    "results = pd.DataFrame(columns = ['Greens Percentage','Reds Percentage'])\n",
    "results['Greens Percentage'] = greenPercents\n",
    "results['Reds Percentage'] = redPercents\n",
    "results"
   ]
  },
  {
   "cell_type": "code",
   "execution_count": 23,
   "metadata": {},
   "outputs": [
    {
     "name": "stdout",
     "output_type": "stream",
     "text": [
      "\n",
      "Question 3\n",
      "None of the clusters have a pure disctribution of red or green\n",
      "Note:- Cluster 0 has no elements because of the difference in shapes of graphs of 2018 and 2019\n"
     ]
    }
   ],
   "source": [
    "# Question 3\n",
    "print('\\nQuestion 3')\n",
    "print('None of the clusters have a pure disctribution of red or green')\n",
    "print('Note:- Cluster 0 has no elements because of the difference in shapes of graphs of 2018 and 2019')"
   ]
  },
  {
   "cell_type": "code",
   "execution_count": null,
   "metadata": {},
   "outputs": [],
   "source": []
  }
 ],
 "metadata": {
  "kernelspec": {
   "display_name": "Python 3",
   "language": "python",
   "name": "python3"
  },
  "language_info": {
   "codemirror_mode": {
    "name": "ipython",
    "version": 3
   },
   "file_extension": ".py",
   "mimetype": "text/x-python",
   "name": "python",
   "nbconvert_exporter": "python",
   "pygments_lexer": "ipython3",
   "version": "3.7.4"
  }
 },
 "nbformat": 4,
 "nbformat_minor": 2
}
