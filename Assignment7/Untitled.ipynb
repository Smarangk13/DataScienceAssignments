{
 "cells": [
  {
   "cell_type": "code",
   "execution_count": 1,
   "metadata": {},
   "outputs": [],
   "source": [
    "import pandas as pd\n",
    "from sklearn.linear_model import LinearRegression"
   ]
  },
  {
   "cell_type": "code",
   "execution_count": 17,
   "metadata": {},
   "outputs": [],
   "source": [
    "fileName = \"KOLabels.csv\"\n",
    "df = pd.read_csv(fileName)\n",
    "df2018 = df[:53]\n",
    "df2019 = df[53:]"
   ]
  },
  {
   "cell_type": "code",
   "execution_count": 22,
   "metadata": {},
   "outputs": [
    {
     "data": {
      "text/html": [
       "<div>\n",
       "<style scoped>\n",
       "    .dataframe tbody tr th:only-of-type {\n",
       "        vertical-align: middle;\n",
       "    }\n",
       "\n",
       "    .dataframe tbody tr th {\n",
       "        vertical-align: top;\n",
       "    }\n",
       "\n",
       "    .dataframe thead th {\n",
       "        text-align: right;\n",
       "    }\n",
       "</style>\n",
       "<table border=\"1\" class=\"dataframe\">\n",
       "  <thead>\n",
       "    <tr style=\"text-align: right;\">\n",
       "      <th></th>\n",
       "      <th>Year-Week</th>\n",
       "      <th>Open</th>\n",
       "      <th>Close</th>\n",
       "      <th>High</th>\n",
       "      <th>Low</th>\n",
       "      <th>Volume</th>\n",
       "      <th>Mean</th>\n",
       "      <th>SD</th>\n",
       "      <th>Label</th>\n",
       "    </tr>\n",
       "  </thead>\n",
       "  <tbody>\n",
       "    <tr>\n",
       "      <th>50</th>\n",
       "      <td>2018-50</td>\n",
       "      <td>49.34</td>\n",
       "      <td>47.57</td>\n",
       "      <td>49.53</td>\n",
       "      <td>47.10</td>\n",
       "      <td>104759900.0</td>\n",
       "      <td>-0.0540</td>\n",
       "      <td>0.496101</td>\n",
       "      <td>Bad</td>\n",
       "    </tr>\n",
       "    <tr>\n",
       "      <th>51</th>\n",
       "      <td>2018-51</td>\n",
       "      <td>47.62</td>\n",
       "      <td>47.20</td>\n",
       "      <td>48.01</td>\n",
       "      <td>45.66</td>\n",
       "      <td>55261000.0</td>\n",
       "      <td>-0.1925</td>\n",
       "      <td>1.110757</td>\n",
       "      <td>Bad</td>\n",
       "    </tr>\n",
       "    <tr>\n",
       "      <th>52</th>\n",
       "      <td>2018-52</td>\n",
       "      <td>47.49</td>\n",
       "      <td>47.35</td>\n",
       "      <td>47.54</td>\n",
       "      <td>46.96</td>\n",
       "      <td>10576300.0</td>\n",
       "      <td>-0.9100</td>\n",
       "      <td>0.770000</td>\n",
       "      <td>Bad</td>\n",
       "    </tr>\n",
       "  </tbody>\n",
       "</table>\n",
       "</div>"
      ],
      "text/plain": [
       "   Year-Week   Open  Close   High    Low       Volume    Mean        SD Label\n",
       "50   2018-50  49.34  47.57  49.53  47.10  104759900.0 -0.0540  0.496101   Bad\n",
       "51   2018-51  47.62  47.20  48.01  45.66   55261000.0 -0.1925  1.110757   Bad\n",
       "52   2018-52  47.49  47.35  47.54  46.96   10576300.0 -0.9100  0.770000   Bad"
      ]
     },
     "execution_count": 22,
     "metadata": {},
     "output_type": "execute_result"
    }
   ],
   "source": [
    "df2018[-3:]"
   ]
  },
  {
   "cell_type": "code",
   "execution_count": 29,
   "metadata": {},
   "outputs": [
    {
     "name": "stderr",
     "output_type": "stream",
     "text": [
      "c:\\python37\\lib\\site-packages\\ipykernel_launcher.py:2: SettingWithCopyWarning: \n",
      "A value is trying to be set on a copy of a slice from a DataFrame.\n",
      "Try using .loc[row_indexer,col_indexer] = value instead\n",
      "\n",
      "See the caveats in the documentation: http://pandas.pydata.org/pandas-docs/stable/user_guide/indexing.html#returning-a-view-versus-a-copy\n",
      "  \n"
     ]
    },
    {
     "data": {
      "text/html": [
       "<div>\n",
       "<style scoped>\n",
       "    .dataframe tbody tr th:only-of-type {\n",
       "        vertical-align: middle;\n",
       "    }\n",
       "\n",
       "    .dataframe tbody tr th {\n",
       "        vertical-align: top;\n",
       "    }\n",
       "\n",
       "    .dataframe thead th {\n",
       "        text-align: right;\n",
       "    }\n",
       "</style>\n",
       "<table border=\"1\" class=\"dataframe\">\n",
       "  <thead>\n",
       "    <tr style=\"text-align: right;\">\n",
       "      <th></th>\n",
       "      <th>Year-Week</th>\n",
       "      <th>Open</th>\n",
       "      <th>Close</th>\n",
       "      <th>High</th>\n",
       "      <th>Low</th>\n",
       "      <th>Volume</th>\n",
       "      <th>Mean</th>\n",
       "      <th>SD</th>\n",
       "      <th>Label</th>\n",
       "      <th>Week</th>\n",
       "    </tr>\n",
       "  </thead>\n",
       "  <tbody>\n",
       "    <tr>\n",
       "      <th>2</th>\n",
       "      <td>2018-02</td>\n",
       "      <td>46.15</td>\n",
       "      <td>47.16</td>\n",
       "      <td>47.25</td>\n",
       "      <td>46.14</td>\n",
       "      <td>56742700.0</td>\n",
       "      <td>0.2175</td>\n",
       "      <td>0.095949</td>\n",
       "      <td>Good</td>\n",
       "      <td>2</td>\n",
       "    </tr>\n",
       "    <tr>\n",
       "      <th>3</th>\n",
       "      <td>2018-03</td>\n",
       "      <td>47.14</td>\n",
       "      <td>48.53</td>\n",
       "      <td>48.62</td>\n",
       "      <td>47.09</td>\n",
       "      <td>65431800.0</td>\n",
       "      <td>0.5080</td>\n",
       "      <td>0.276007</td>\n",
       "      <td>Good</td>\n",
       "      <td>3</td>\n",
       "    </tr>\n",
       "    <tr>\n",
       "      <th>4</th>\n",
       "      <td>2018-04</td>\n",
       "      <td>48.21</td>\n",
       "      <td>46.73</td>\n",
       "      <td>48.46</td>\n",
       "      <td>46.63</td>\n",
       "      <td>58219200.0</td>\n",
       "      <td>0.2540</td>\n",
       "      <td>0.589210</td>\n",
       "      <td>Bad</td>\n",
       "      <td>4</td>\n",
       "    </tr>\n",
       "    <tr>\n",
       "      <th>5</th>\n",
       "      <td>2018-05</td>\n",
       "      <td>46.65</td>\n",
       "      <td>43.13</td>\n",
       "      <td>46.92</td>\n",
       "      <td>42.19</td>\n",
       "      <td>112635800.0</td>\n",
       "      <td>-0.2920</td>\n",
       "      <td>0.993308</td>\n",
       "      <td>Bad</td>\n",
       "      <td>5</td>\n",
       "    </tr>\n",
       "    <tr>\n",
       "      <th>6</th>\n",
       "      <td>2018-06</td>\n",
       "      <td>43.56</td>\n",
       "      <td>44.98</td>\n",
       "      <td>45.64</td>\n",
       "      <td>43.37</td>\n",
       "      <td>71979700.0</td>\n",
       "      <td>-0.1520</td>\n",
       "      <td>0.490860</td>\n",
       "      <td>Bad</td>\n",
       "      <td>6</td>\n",
       "    </tr>\n",
       "    <tr>\n",
       "      <th>7</th>\n",
       "      <td>2018-07</td>\n",
       "      <td>44.75</td>\n",
       "      <td>44.04</td>\n",
       "      <td>44.83</td>\n",
       "      <td>43.22</td>\n",
       "      <td>47585200.0</td>\n",
       "      <td>-0.4350</td>\n",
       "      <td>0.568880</td>\n",
       "      <td>Bad</td>\n",
       "      <td>7</td>\n",
       "    </tr>\n",
       "  </tbody>\n",
       "</table>\n",
       "</div>"
      ],
      "text/plain": [
       "  Year-Week   Open  Close   High    Low       Volume    Mean        SD Label  \\\n",
       "2   2018-02  46.15  47.16  47.25  46.14   56742700.0  0.2175  0.095949  Good   \n",
       "3   2018-03  47.14  48.53  48.62  47.09   65431800.0  0.5080  0.276007  Good   \n",
       "4   2018-04  48.21  46.73  48.46  46.63   58219200.0  0.2540  0.589210   Bad   \n",
       "5   2018-05  46.65  43.13  46.92  42.19  112635800.0 -0.2920  0.993308   Bad   \n",
       "6   2018-06  43.56  44.98  45.64  43.37   71979700.0 -0.1520  0.490860   Bad   \n",
       "7   2018-07  44.75  44.04  44.83  43.22   47585200.0 -0.4350  0.568880   Bad   \n",
       "\n",
       "   Week  \n",
       "2     2  \n",
       "3     3  \n",
       "4     4  \n",
       "5     5  \n",
       "6     6  \n",
       "7     7  "
      ]
     },
     "execution_count": 29,
     "metadata": {},
     "output_type": "execute_result"
    }
   ],
   "source": [
    "weeks = [i for i in range(53)]\n",
    "df2018['Week'] = weeks\n",
    "df2018[2:8]"
   ]
  },
  {
   "cell_type": "code",
   "execution_count": 27,
   "metadata": {},
   "outputs": [
    {
     "name": "stdout",
     "output_type": "stream",
     "text": [
      "[[ 7.         40.94973849]]\n"
     ]
    }
   ],
   "source": [
    "X = df2018[2:6][['Week','Close']]\n",
    "y = df2018[3:7][['Week','Close']]\n",
    "\n",
    "clf = LinearRegression().fit(X, y)\n",
    "r = clf.predict(df2018[6:7][['Week','Close']])\n",
    "print(r)"
   ]
  },
  {
   "cell_type": "code",
   "execution_count": 36,
   "metadata": {},
   "outputs": [
    {
     "data": {
      "text/plain": [
       "48.53"
      ]
     },
     "execution_count": 36,
     "metadata": {},
     "output_type": "execute_result"
    }
   ],
   "source": [
    "df2018.at[3,'Close']"
   ]
  },
  {
   "cell_type": "code",
   "execution_count": null,
   "metadata": {},
   "outputs": [],
   "source": [
    "def trade(prev,new,pos):\n",
    "    \n",
    "    return 0"
   ]
  },
  {
   "cell_type": "code",
   "execution_count": null,
   "metadata": {},
   "outputs": [],
   "source": [
    "def linearWindow(dfx,w):\n",
    "    l = len(dfx)\n",
    "    position = 'None'\n",
    "    shares = 0\n",
    "    profit =0 \n",
    "    nlongs = 0\n",
    "    nshorts = 0\n",
    "    \n",
    "    for i in range(l-w-1):\n",
    "        X = dfx[i:i+w]\n",
    "        y = dfx[i+1:i+w+1]\n",
    "        \n",
    "        LRf = LinearRegression().fit(X, y)\n",
    "        pw1 = LRf.predict(dfx[i+w:i+w+1][['Week','Close']])\n",
    "        pw1 = pw[0][1]\n",
    "        last = dfx.at[i,'Close']\n",
    "        \n",
    "        if pw1 > last:\n",
    "            if position == 'None':\n",
    "                shares = 100 / last\n",
    "                position = 'long'\n",
    "                nlongs +=1\n",
    "            \n",
    "            elif position == 'long':\n",
    "                nlongs += 1\n",
    "            \n",
    "            else:\n",
    "                px = 100 * shares\n",
    "                profit += px - pw \n",
    "                position = 'None'\n",
    "        \n",
    "        elif pw1 < last:\n",
    "            if position == 'None':\n",
    "                position = 'short'\n",
    "                shares = 100/last\n",
    "                nshorts += 1\n",
    "                \n",
    "            \n",
    "            elif position == 'short':\n",
    "                nshorts += 1\n",
    "            \n",
    "            else:\n",
    "                px = last * shares\n",
    "                profit += px - pw \n",
    "                position = 'None'\n",
    "                \n",
    "    return profit, nshorts, nlongs"
   ]
  }
 ],
 "metadata": {
  "kernelspec": {
   "display_name": "Python 3",
   "language": "python",
   "name": "python3"
  },
  "language_info": {
   "codemirror_mode": {
    "name": "ipython",
    "version": 3
   },
   "file_extension": ".py",
   "mimetype": "text/x-python",
   "name": "python",
   "nbconvert_exporter": "python",
   "pygments_lexer": "ipython3",
   "version": "3.7.4"
  }
 },
 "nbformat": 4,
 "nbformat_minor": 2
}
