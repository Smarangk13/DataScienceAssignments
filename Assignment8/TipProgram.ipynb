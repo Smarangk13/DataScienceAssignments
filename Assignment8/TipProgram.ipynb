{
 "cells": [
  {
   "cell_type": "code",
   "execution_count": 1,
   "metadata": {},
   "outputs": [],
   "source": [
    "import pandas as pd"
   ]
  },
  {
   "cell_type": "code",
   "execution_count": 2,
   "metadata": {},
   "outputs": [],
   "source": [
    "tipFile = 'tips.csv'\n",
    "df = pd.read_csv(tipFile)"
   ]
  },
  {
   "cell_type": "code",
   "execution_count": 3,
   "metadata": {},
   "outputs": [
    {
     "data": {
      "text/plain": [
       "<bound method NDFrame.head of      total_bill   tip     sex smoker   day    time  size\n",
       "0         16.99  1.01  Female     No   Sun  Dinner     2\n",
       "1         10.34  1.66    Male     No   Sun  Dinner     3\n",
       "2         21.01  3.50    Male     No   Sun  Dinner     3\n",
       "3         23.68  3.31    Male     No   Sun  Dinner     2\n",
       "4         24.59  3.61  Female     No   Sun  Dinner     4\n",
       "..          ...   ...     ...    ...   ...     ...   ...\n",
       "239       29.03  5.92    Male     No   Sat  Dinner     3\n",
       "240       27.18  2.00  Female    Yes   Sat  Dinner     2\n",
       "241       22.67  2.00    Male    Yes   Sat  Dinner     2\n",
       "242       17.82  1.75    Male     No   Sat  Dinner     2\n",
       "243       18.78  3.00  Female     No  Thur  Dinner     2\n",
       "\n",
       "[244 rows x 7 columns]>"
      ]
     },
     "execution_count": 3,
     "metadata": {},
     "output_type": "execute_result"
    }
   ],
   "source": [
    "df.head"
   ]
  },
  {
   "cell_type": "code",
   "execution_count": 24,
   "metadata": {},
   "outputs": [],
   "source": [
    "def tipPct(dfx):\n",
    "    bill = dfx['total_bill'].mean()\n",
    "    tip = dfx['tip'].mean()\n",
    "    tipPct = '{0:.2f}'.format((tip/bill)*100)\n",
    "\n",
    "    return tipPct"
   ]
  },
  {
   "cell_type": "code",
   "execution_count": 26,
   "metadata": {},
   "outputs": [
    {
     "name": "stdout",
     "output_type": "stream",
     "text": [
      "Question 1\n",
      "Lunch tip % = 15.89 %\n",
      "Dinner tip % = 14.92 %\n"
     ]
    }
   ],
   "source": [
    "# Question 1\n",
    "print('Question 1')\n",
    "lunchdf = df[df['time'] == 'Lunch']\n",
    "dinnerdf = df[df['time'] == 'Dinner']\n",
    "\n",
    "lunchTipPct = tipPct(lunchdf)\n",
    "dinnerTipPct = tipPct(dinnerdf)\n",
    "\n",
    "print('Lunch tip % =',lunchTipPct,'%')\n",
    "print('Dinner tip % =',dinnerTipPct,'%')"
   ]
  },
  {
   "cell_type": "code",
   "execution_count": 28,
   "metadata": {},
   "outputs": [
    {
     "name": "stdout",
     "output_type": "stream",
     "text": [
      "\n",
      "Question 2\n",
      "['Sun', 'Sat', 'Thur', 'Fri']\n",
      "Tip % on Sun is = 15.20 %\n",
      "Tip % on Sat is = 14.64 %\n",
      "Tip % on Thur is = 15.67 %\n",
      "Tip % on Fri is = 15.94 %\n"
     ]
    }
   ],
   "source": [
    "# Question 2\n",
    "print('\\nQuestion 2')\n",
    "days = df['day'].unique()\n",
    "print(list(days))\n",
    "\n",
    "for day in days:\n",
    "    daydf = df[df['day']==day]\n",
    "    dayTip = tipPct(daydf)\n",
    "    print('Tip % on',day,'is =',dayTip,'%')"
   ]
  },
  {
   "cell_type": "code",
   "execution_count": 35,
   "metadata": {},
   "outputs": [
    {
     "name": "stdout",
     "output_type": "stream",
     "text": [
      "\n",
      "Question 3\n",
      "The best day for tips is Fri during lunch with 18.55 %\n"
     ]
    }
   ],
   "source": [
    "# Question 3\n",
    "print('\\nQuestion 3')\n",
    "maxDay = ''\n",
    "maxTime = ''\n",
    "maxTip = 0\n",
    "\n",
    "for day in days:\n",
    "    daydf = df[df['day']==day]\n",
    "    lunchdf = daydf[daydf['time'] == 'Lunch']\n",
    "    dinnerdf = daydf[daydf['time'] == 'Dinner']\n",
    "    lunchTip = tipPct(lunchdf)\n",
    "    dinnerTip = tipPct(dinnerdf)\n",
    "    if float(lunchTip) > maxTip:\n",
    "        maxTip = float(lunchTip)\n",
    "        maxTime = 'lunch'\n",
    "        maxDay = day\n",
    "    \n",
    "    if float(dinnerTip) > maxTip:\n",
    "        maxTip = float(dinnerTip)\n",
    "        maxTime = 'dinner'\n",
    "        maxDay = day\n",
    "\n",
    "print('The best day for tips is',maxDay,'during',maxTime,'with',maxTip,'%')"
   ]
  },
  {
   "cell_type": "code",
   "execution_count": 36,
   "metadata": {},
   "outputs": [
    {
     "name": "stdout",
     "output_type": "stream",
     "text": [
      "\n",
      "Question 4\n",
      "0.6757341092113645\n"
     ]
    }
   ],
   "source": [
    "# Question 4\n",
    "print('\\nQuestion 4')\n",
    "correlation = df['total_bill'].corr(df['tip'])\n",
    "print('The correlation of bill with tip is',correlation)"
   ]
  },
  {
   "cell_type": "code",
   "execution_count": 38,
   "metadata": {},
   "outputs": [
    {
     "name": "stdout",
     "output_type": "stream",
     "text": [
      "\n",
      "Question 5\n",
      "The correlation of size of group with tip is 0.4892987752303579\n",
      "Since the correlation is positive there is a positive influnce of the group size\n"
     ]
    }
   ],
   "source": [
    "# Question 5\n",
    "print('\\nQuestion 5')\n",
    "sizeCo = df['size'].corr(df['tip'])\n",
    "print('The correlation of size of group with tip is',sizeCo)\n",
    "if abs(sizeCo) < 0.4:\n",
    "    print('There is not much correlation between Size of group and tip')\n",
    "elif sizeCo > 0:\n",
    "    print('Since the correlation is positive there is a positive influnce of the group size')\n",
    "else:\n",
    "    print('Larger groups give smaller tips')"
   ]
  },
  {
   "cell_type": "code",
   "execution_count": 39,
   "metadata": {},
   "outputs": [
    {
     "name": "stdout",
     "output_type": "stream",
     "text": [
      "\n",
      "Question 5\n",
      "The % of smokers is 38.114754098360656\n"
     ]
    }
   ],
   "source": [
    "# Question 6\n",
    "print('\\nQuestion 6')\n",
    "smokerdf = df[df['smoker']=='Yes']\n",
    "pctSmoker = len(smokerdf)/len(df) * 100\n",
    "print('The % of smokers is',pctSmoker)"
   ]
  },
  {
   "cell_type": "code",
   "execution_count": 41,
   "metadata": {},
   "outputs": [
    {
     "name": "stdout",
     "output_type": "stream",
     "text": [
      "\n",
      "Question 7\n",
      "Does tip increase with time?  No\n"
     ]
    }
   ],
   "source": [
    "# Question 7\n",
    "print('\\nQuestion 7')\n",
    "last = 0\n",
    "res = 'Yes'\n",
    "for day in days:\n",
    "    daydf = df[df['day']==day]\n",
    "    lunchdf = daydf[daydf['time'] == 'Lunch']\n",
    "    dinnerdf = daydf[daydf['time'] == 'Dinner']\n",
    "    lunchTip = tipPct(lunchdf)\n",
    "    dinnerTip = tipPct(dinnerdf)\n",
    "    \n",
    "    if float(lunchTip) > last:\n",
    "        last = float(lunchTip)\n",
    "    else:\n",
    "        res = 'No'\n",
    "        break\n",
    "    \n",
    "    if float(dinnerTip) > last:\n",
    "        last = float(dinnerTip)\n",
    "    else:\n",
    "        res = 'No'\n",
    "        break\n",
    "\n",
    "print('Does tip increase with time? ',res)"
   ]
  },
  {
   "cell_type": "code",
   "execution_count": 42,
   "metadata": {},
   "outputs": [
    {
     "name": "stdout",
     "output_type": "stream",
     "text": [
      "\n",
      "Question 8\n",
      "Non Smokers tip higher than smokers\n"
     ]
    }
   ],
   "source": [
    "# Question 8\n",
    "print('\\nQuestion 8')\n",
    "\n",
    "nonSmokerDf = df[df['smoker']=='No']\n",
    "smokeCo = df['total_bill'].corr(df['tip'])\n",
    "noSmokeCo = df['total_bill'].corr(df['tip'])\n",
    "\n",
    "if smokeCo > noSmokeCo:\n",
    "    print('Smokers tip higher than non smokers')\n",
    "\n",
    "else:\n",
    "    print('Non Smokers tip higher than smokers')"
   ]
  },
  {
   "cell_type": "code",
   "execution_count": null,
   "metadata": {},
   "outputs": [],
   "source": []
  }
 ],
 "metadata": {
  "kernelspec": {
   "display_name": "Python 3",
   "language": "python",
   "name": "python3"
  },
  "language_info": {
   "codemirror_mode": {
    "name": "ipython",
    "version": 3
   },
   "file_extension": ".py",
   "mimetype": "text/x-python",
   "name": "python",
   "nbconvert_exporter": "python",
   "pygments_lexer": "ipython3",
   "version": "3.7.4"
  }
 },
 "nbformat": 4,
 "nbformat_minor": 2
}
