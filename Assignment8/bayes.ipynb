{
 "cells": [
  {
   "cell_type": "code",
   "execution_count": 1,
   "metadata": {},
   "outputs": [],
   "source": [
    "import numpy as np\n",
    "import pandas as pd\n",
    "from sklearn.naive_bayes import GaussianNB\n",
    "from sklearn.metrics import confusion_matrix"
   ]
  },
  {
   "cell_type": "code",
   "execution_count": 2,
   "metadata": {},
   "outputs": [],
   "source": [
    "fileName = \"KOLabels.csv\"\n",
    "df = pd.read_csv(fileName)\n",
    "df2018 = df[:53]\n",
    "df2019 = df[53:]\n"
   ]
  },
  {
   "cell_type": "code",
   "execution_count": 3,
   "metadata": {},
   "outputs": [],
   "source": [
    "gnb = GaussianNB()"
   ]
  },
  {
   "cell_type": "code",
   "execution_count": 4,
   "metadata": {},
   "outputs": [
    {
     "data": {
      "text/html": [
       "<div>\n",
       "<style scoped>\n",
       "    .dataframe tbody tr th:only-of-type {\n",
       "        vertical-align: middle;\n",
       "    }\n",
       "\n",
       "    .dataframe tbody tr th {\n",
       "        vertical-align: top;\n",
       "    }\n",
       "\n",
       "    .dataframe thead th {\n",
       "        text-align: right;\n",
       "    }\n",
       "</style>\n",
       "<table border=\"1\" class=\"dataframe\">\n",
       "  <thead>\n",
       "    <tr style=\"text-align: right;\">\n",
       "      <th></th>\n",
       "      <th>Year-Week</th>\n",
       "      <th>Open</th>\n",
       "      <th>Close</th>\n",
       "      <th>High</th>\n",
       "      <th>Low</th>\n",
       "      <th>Volume</th>\n",
       "      <th>Mean</th>\n",
       "      <th>SD</th>\n",
       "      <th>Label</th>\n",
       "    </tr>\n",
       "  </thead>\n",
       "  <tbody>\n",
       "    <tr>\n",
       "      <th>0</th>\n",
       "      <td>2018-00</td>\n",
       "      <td>45.91</td>\n",
       "      <td>46.07</td>\n",
       "      <td>46.22</td>\n",
       "      <td>45.34</td>\n",
       "      <td>49330300.0</td>\n",
       "      <td>0.0375</td>\n",
       "      <td>0.318855</td>\n",
       "      <td>Good</td>\n",
       "    </tr>\n",
       "    <tr>\n",
       "      <th>1</th>\n",
       "      <td>2018-01</td>\n",
       "      <td>45.95</td>\n",
       "      <td>46.15</td>\n",
       "      <td>46.39</td>\n",
       "      <td>45.86</td>\n",
       "      <td>49885000.0</td>\n",
       "      <td>-0.0100</td>\n",
       "      <td>0.161555</td>\n",
       "      <td>Good</td>\n",
       "    </tr>\n",
       "    <tr>\n",
       "      <th>2</th>\n",
       "      <td>2018-02</td>\n",
       "      <td>46.15</td>\n",
       "      <td>47.16</td>\n",
       "      <td>47.25</td>\n",
       "      <td>46.14</td>\n",
       "      <td>56742700.0</td>\n",
       "      <td>0.2175</td>\n",
       "      <td>0.095949</td>\n",
       "      <td>Good</td>\n",
       "    </tr>\n",
       "    <tr>\n",
       "      <th>3</th>\n",
       "      <td>2018-03</td>\n",
       "      <td>47.14</td>\n",
       "      <td>48.53</td>\n",
       "      <td>48.62</td>\n",
       "      <td>47.09</td>\n",
       "      <td>65431800.0</td>\n",
       "      <td>0.5080</td>\n",
       "      <td>0.276007</td>\n",
       "      <td>Good</td>\n",
       "    </tr>\n",
       "    <tr>\n",
       "      <th>4</th>\n",
       "      <td>2018-04</td>\n",
       "      <td>48.21</td>\n",
       "      <td>46.73</td>\n",
       "      <td>48.46</td>\n",
       "      <td>46.63</td>\n",
       "      <td>58219200.0</td>\n",
       "      <td>0.2540</td>\n",
       "      <td>0.589210</td>\n",
       "      <td>Bad</td>\n",
       "    </tr>\n",
       "  </tbody>\n",
       "</table>\n",
       "</div>"
      ],
      "text/plain": [
       "  Year-Week   Open  Close   High    Low      Volume    Mean        SD Label\n",
       "0   2018-00  45.91  46.07  46.22  45.34  49330300.0  0.0375  0.318855  Good\n",
       "1   2018-01  45.95  46.15  46.39  45.86  49885000.0 -0.0100  0.161555  Good\n",
       "2   2018-02  46.15  47.16  47.25  46.14  56742700.0  0.2175  0.095949  Good\n",
       "3   2018-03  47.14  48.53  48.62  47.09  65431800.0  0.5080  0.276007  Good\n",
       "4   2018-04  48.21  46.73  48.46  46.63  58219200.0  0.2540  0.589210   Bad"
      ]
     },
     "execution_count": 4,
     "metadata": {},
     "output_type": "execute_result"
    }
   ],
   "source": [
    "df2018.head()"
   ]
  },
  {
   "cell_type": "code",
   "execution_count": 5,
   "metadata": {},
   "outputs": [
    {
     "name": "stderr",
     "output_type": "stream",
     "text": [
      "c:\\python37\\lib\\site-packages\\sklearn\\naive_bayes.py:206: DataConversionWarning: A column-vector y was passed when a 1d array was expected. Please change the shape of y to (n_samples, ), for example using ravel().\n",
      "  y = column_or_1d(y, warn=True)\n"
     ]
    },
    {
     "data": {
      "text/plain": [
       "GaussianNB(priors=None, var_smoothing=1e-09)"
      ]
     },
     "execution_count": 5,
     "metadata": {},
     "output_type": "execute_result"
    }
   ],
   "source": [
    "X_train = df2018[['Mean','SD']]\n",
    "y_train = df2018[['Label']]\n",
    "\n",
    "gnb.fit(X_train, y_train)"
   ]
  },
  {
   "cell_type": "code",
   "execution_count": 6,
   "metadata": {},
   "outputs": [
    {
     "name": "stdout",
     "output_type": "stream",
     "text": [
      "['Bad' 'Good' 'Good' 'Good' 'Good' 'Good' 'Bad' 'Bad' 'Good' 'Good' 'Bad'\n",
      " 'Good' 'Good' 'Good' 'Good' 'Good' 'Good' 'Good' 'Good' 'Good' 'Good'\n",
      " 'Good' 'Good' 'Good' 'Good' 'Good' 'Good' 'Good' 'Good' 'Good' 'Good'\n",
      " 'Good' 'Good' 'Good' 'Good' 'Good' 'Good' 'Good' 'Good' 'Good' 'Good'\n",
      " 'Good' 'Good' 'Good' 'Good' 'Good' 'Good' 'Good' 'Good' 'Good' 'Good'\n",
      " 'Good']\n"
     ]
    }
   ],
   "source": [
    "y_pred = gnb.predict(df2019[['Mean','SD']])\n",
    "print(y_pred)"
   ]
  },
  {
   "cell_type": "code",
   "execution_count": 7,
   "metadata": {},
   "outputs": [],
   "source": [
    "cf = confusion_matrix(df2019['Label'], y_pred)\n",
    "tn, fp, fn, tp  = cf.ravel()"
   ]
  },
  {
   "cell_type": "code",
   "execution_count": 8,
   "metadata": {},
   "outputs": [
    {
     "name": "stdout",
     "output_type": "stream",
     "text": [
      "Question 1\n",
      "Accuracy =  53.85 %\n"
     ]
    }
   ],
   "source": [
    "#Question 1\n",
    "print('Question 1')\n",
    "accuracy = (tp+tn)/len(df2019)*100\n",
    "print('Accuracy = ','{0:.2f}'.format(accuracy),'%')"
   ]
  },
  {
   "cell_type": "code",
   "execution_count": 9,
   "metadata": {},
   "outputs": [
    {
     "name": "stdout",
     "output_type": "stream",
     "text": [
      "\n",
      "Question 2\n",
      "[[ 2 22]\n",
      " [ 2 26]]\n"
     ]
    }
   ],
   "source": [
    "#Question 2\n",
    "print('\\nQuestion 2')\n",
    "print(cf)"
   ]
  },
  {
   "cell_type": "code",
   "execution_count": 10,
   "metadata": {},
   "outputs": [
    {
     "name": "stdout",
     "output_type": "stream",
     "text": [
      "\n",
      "Question 3\n",
      "True positive rate = 50.00 %\n",
      "True negative rate = 3.85 %\n"
     ]
    }
   ],
   "source": [
    "#Question 3\n",
    "print('\\nQuestion 3')\n",
    "print('True positive rate =','{0:.2f}'.format(tp/len(df2019)*100),'%')\n",
    "print('True negative rate =','{0:.2f}'.format(tn/len(df2019)*100),'%')"
   ]
  },
  {
   "cell_type": "code",
   "execution_count": 11,
   "metadata": {},
   "outputs": [
    {
     "name": "stdout",
     "output_type": "stream",
     "text": [
      "   Year-Week   Open  Close   High    Low      Volume      Mean        SD Label\n",
      "53   2019-00  46.94  47.57  47.57  46.53  39331800.0 -0.093333  0.531863   Bad\n",
      "54   2019-01  47.57  47.34  47.75  46.34  73653900.0 -0.144000  0.411086  Good\n",
      "55   2019-02  47.25  47.61  47.69  46.81  64570300.0 -0.024000  0.420400  Good\n",
      "56   2019-03  47.70  47.37  48.29  47.21  46097200.0 -0.145000  0.384090  Good\n",
      "57   2019-04  47.22  48.70  48.78  46.94  86229600.0  0.136000  0.241313  Good\n",
      "   Year-Week   Open  Close   High    Low      Volume      Mean        SD Label\n",
      "53   2019-00  46.94  47.57  47.57  46.53  39331800.0 -0.093333  0.531863   Bad\n",
      "54   2019-01  47.57  47.34  47.75  46.34  73653900.0 -0.144000  0.411086  Good\n",
      "55   2019-02  47.25  47.61  47.69  46.81  64570300.0 -0.024000  0.420400  Good\n",
      "56   2019-03  47.70  47.37  48.29  47.21  46097200.0 -0.145000  0.384090  Good\n",
      "57   2019-04  47.22  48.70  48.78  46.94  86229600.0  0.136000  0.241313  Good\n"
     ]
    },
    {
     "name": "stderr",
     "output_type": "stream",
     "text": [
      "c:\\python37\\lib\\site-packages\\ipykernel_launcher.py:2: SettingWithCopyWarning: \n",
      "A value is trying to be set on a copy of a slice from a DataFrame.\n",
      "Try using .loc[row_indexer,col_indexer] = value instead\n",
      "\n",
      "See the caveats in the documentation: http://pandas.pydata.org/pandas-docs/stable/user_guide/indexing.html#returning-a-view-versus-a-copy\n",
      "  \n"
     ]
    }
   ],
   "source": [
    "df2019New = df2019\n",
    "df2019New['Label'] = y_pred\n",
    "print(df2019.head())\n",
    "print(df2019New.head())"
   ]
  },
  {
   "cell_type": "code",
   "execution_count": 17,
   "metadata": {},
   "outputs": [],
   "source": [
    "buyHold = df2019[:1]['Close']- df2019[-1:]['Close'] * 100"
   ]
  },
  {
   "cell_type": "code",
   "execution_count": 26,
   "metadata": {},
   "outputs": [
    {
     "name": "stdout",
     "output_type": "stream",
     "text": [
      "5103.829193698418\n"
     ]
    }
   ],
   "source": [
    "position = None\n",
    "money = 100\n",
    "shares = 0\n",
    "totalBalance = 0\n",
    "for index, row in df2019New.iterrows():\n",
    "    label = row['Label']\n",
    "    if label == 'Good':\n",
    "        if position == None:\n",
    "            shares = money / float(row['Close'])\n",
    "            position = 'Hold'\n",
    "    else:\n",
    "        if position == 'Hold':\n",
    "            money = shares * float(row['Close'])\n",
    "            position = None\n",
    "\n",
    "    totalBalance += money\n",
    "\n",
    "totalBalance += shares * float(df2019New[-1:]['Close'])\n",
    "            \n",
    "print(totalBalance)"
   ]
  },
  {
   "cell_type": "code",
   "execution_count": null,
   "metadata": {},
   "outputs": [],
   "source": []
  }
 ],
 "metadata": {
  "kernelspec": {
   "display_name": "Python 3",
   "language": "python",
   "name": "python3"
  },
  "language_info": {
   "codemirror_mode": {
    "name": "ipython",
    "version": 3
   },
   "file_extension": ".py",
   "mimetype": "text/x-python",
   "name": "python",
   "nbconvert_exporter": "python",
   "pygments_lexer": "ipython3",
   "version": "3.7.4"
  }
 },
 "nbformat": 4,
 "nbformat_minor": 2
}
