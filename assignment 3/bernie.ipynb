{
 "cells": [
  {
   "cell_type": "code",
   "execution_count": 1,
   "metadata": {},
   "outputs": [],
   "source": [
    "import math\n",
    "import numpy as np\n",
    "import pandas as pd\n",
    "import matplotlib.pyplot as plt\n",
    "\n",
    "file = 'online_retail.csv'\n",
    "df = pd.read_csv(file)\n"
   ]
  },
  {
   "cell_type": "code",
   "execution_count": 2,
   "metadata": {},
   "outputs": [],
   "source": [
    "model1 = [0.1 for i in range(1, 10)]\n",
    "model2 = [math.log10(1+1/i) for i in range(1, 10)]"
   ]
  },
  {
   "cell_type": "code",
   "execution_count": 3,
   "metadata": {},
   "outputs": [],
   "source": [
    "realCount = [0 for i in range(1,10)]\n",
    "for i in df['UnitPrice']:\n",
    "    first = str(i)[0]\n",
    "    if first == '0':\n",
    "        first = str(i)[2]\n",
    "    realCount[int(first)-1] += 1\n",
    "real = [round(i/len(df),2) for i in realCount]"
   ]
  },
  {
   "cell_type": "code",
   "execution_count": 4,
   "metadata": {
    "scrolled": false
   },
   "outputs": [
    {
     "name": "stdout",
     "output_type": "stream",
     "text": [
      "Question 1\n",
      "See Graph\n"
     ]
    },
    {
     "data": {
      "image/png": "[encoded data removed]",
      "text/plain": [
       "<Figure size 432x288 with 1 Axes>"
      ]
     },
     "metadata": {
      "needs_background": "light"
     },
     "output_type": "display_data"
    }
   ],
   "source": [
    "# 1\n",
    "print('Question 1')\n",
    "print('See Graph')\n",
    "# print(real)\n",
    "# x = [i for i in range(1,10)]\n",
    "x = np.array(range(1,10))\n",
    "width = 0.25\n",
    "buffer = 0.05\n",
    "box = plt.subplot(1, 1, 1)\n",
    "equalPlot = box.bar(x, model1, width, color='black')\n",
    "BernPlot = box.bar(x + width + buffer, model2, width, color='green')\n",
    "realPlot = box.bar(x + width * 2 + buffer * 2, real, width, color='red')\n",
    "\n",
    "box.set_ylabel('Frequency %')\n",
    "box.set_xticks(x + width)\n",
    "box.set_xticklabels(x)\n",
    "box.legend((equalPlot[0], BernPlot[0], realPlot[0]), ('Equal Weight', 'Bernford', 'Real'))\n",
    "\n",
    "plt.show()"
   ]
  },
  {
   "cell_type": "code",
   "execution_count": 5,
   "metadata": {},
   "outputs": [
    {
     "name": "stdout",
     "output_type": "stream",
     "text": [
      "\n",
      "Question 2\n",
      "See Graph\n"
     ]
    },
    {
     "data": {
      "image/png": "[encoded data removed]",
      "text/plain": [
       "<Figure size 432x288 with 1 Axes>"
      ]
     },
     "metadata": {
      "needs_background": "light"
     },
     "output_type": "display_data"
    }
   ],
   "source": [
    "# 2\n",
    "print('\\nQuestion 2')\n",
    "print('See Graph')\n",
    "\n",
    "errorM1 = [abs(model1[i]-real[i]) for i in range(9)]\n",
    "errorM2 = [abs(model2[i]-real[i]) for i in range(9)]\n",
    "\n",
    "width = 0.4\n",
    "buffer = 0.05\n",
    "box = plt.subplot(1, 1, 1)\n",
    "equalPlot = box.bar(x, errorM1, width, color='black')\n",
    "BernPlot = box.bar(x + width+buffer, errorM2, width, color='green')\n",
    "\n",
    "box.set_ylabel('Absolute error')\n",
    "box.set_xlabel('Digit')\n",
    "box.set_xticks(x + width)\n",
    "box.set_xticklabels(x)\n",
    "box.legend((equalPlot[0], BernPlot[0]), ('Equal Weight', 'Bernford'))\n",
    "\n",
    "plt.show()"
   ]
  },
  {
   "cell_type": "code",
   "execution_count": 6,
   "metadata": {},
   "outputs": [
    {
     "name": "stdout",
     "output_type": "stream",
     "text": [
      "\n",
      "Question 3\n",
      "RMS Error in model 1 =  0.09\n",
      "RMS Error in model 2 =  0.03\n"
     ]
    }
   ],
   "source": [
    "print('\\nQuestion 3')\n",
    "sum1 = 0\n",
    "sum2 = 0\n",
    "for i in range(9):\n",
    "    sum1 += errorM1[i]**2\n",
    "    sum2 += errorM2[i] ** 2\n",
    "\n",
    "rmse1 = round((sum1/10) ** 0.5, 2)\n",
    "rmse2 = round((sum2/10) ** 0.5, 2)\n",
    "\n",
    "print('RMS Error in model 1 = ', rmse1)\n",
    "print('RMS Error in model 2 = ', rmse2)"
   ]
  },
  {
   "cell_type": "code",
   "execution_count": null,
   "metadata": {},
   "outputs": [],
   "source": []
  }
 ],
 "metadata": {
  "kernelspec": {
   "display_name": "Python 3",
   "language": "python",
   "name": "python3"
  },
  "language_info": {
   "codemirror_mode": {
    "name": "ipython",
    "version": 3
   },
   "file_extension": ".py",
   "mimetype": "text/x-python",
   "name": "python",
   "nbconvert_exporter": "python",
   "pygments_lexer": "ipython3",
   "version": "3.7.4"
  }
 },
 "nbformat": 4,
 "nbformat_minor": 2
}
