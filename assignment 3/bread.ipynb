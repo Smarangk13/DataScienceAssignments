{
 "cells": [
  {
   "cell_type": "code",
   "execution_count": 1,
   "metadata": {},
   "outputs": [],
   "source": [
    "import os\n",
    "import math\n",
    "import pandas as pd\n",
    "import numpy as np\n",
    "\n",
    "fileName = \"Breadbasket_DMS_output.csv\"\n",
    "file0 = \"Breadbasket_DMS.csv\"\n",
    "df = pd.read_csv(fileName)\n",
    "df0 = pd.read_csv(file0)\n"
   ]
  },
  {
   "cell_type": "code",
   "execution_count": 2,
   "metadata": {},
   "outputs": [
    {
     "name": "stdout",
     "output_type": "stream",
     "text": [
      "Question 1\n",
      "The busiest hour is  11  with  1445 transactions\n",
      "The busiest day is  Saturday  with  2068 transactions\n",
      "The busiest period is  afternoon  with  5307 transactions\n"
     ]
    }
   ],
   "source": [
    "# 1\n",
    "print('Question 1')\n",
    "# Hour\n",
    "hourly = df.groupby('Hour')['Transaction'].nunique()\n",
    "print('The busiest hour is ', hourly.idxmax(), ' with ', hourly.max(), 'transactions')\n",
    "\n",
    "# Day\n",
    "daily = df.groupby('Weekday')['Transaction'].nunique()\n",
    "print('The busiest day is ', daily.idxmax(), ' with ', daily.max(), 'transactions')\n",
    "\n",
    "# Period\n",
    "timely = df.groupby('Period')['Transaction'].nunique()\n",
    "print('The busiest period is ', timely.idxmax(), ' with ', timely.max(), 'transactions')"
   ]
  },
  {
   "cell_type": "code",
   "execution_count": 3,
   "metadata": {},
   "outputs": [
    {
     "name": "stdout",
     "output_type": "stream",
     "text": [
      "\n",
      "Question 2\n",
      "The most profitable hour is  11  earning  21453.439999999526\n",
      "The most profitable day is Saturday  earning  31531.82999999916\n",
      "The most profitable part of the day is afternoon  earning  81299.9700000038\n"
     ]
    }
   ],
   "source": [
    "# 2\n",
    "print('\\nQuestion 2')\n",
    "# Hour\n",
    "hourly = df.groupby('Hour')['Item_Price'].sum()\n",
    "print('The most profitable hour is ', hourly.idxmax(), ' earning ', hourly.max())\n",
    "\n",
    "# Day\n",
    "daily = df.groupby('Weekday')['Item_Price'].sum()\n",
    "print('The most profitable day is', daily.idxmax(), ' earning ', daily.max())\n",
    "\n",
    "# Time\n",
    "timely = df.groupby('Period')['Item_Price'].sum()\n",
    "print('The most profitable part of the day is', timely.idxmax(), ' earning ', timely.max())\n"
   ]
  },
  {
   "cell_type": "code",
   "execution_count": 4,
   "metadata": {},
   "outputs": [
    {
     "name": "stdout",
     "output_type": "stream",
     "text": [
      "\n",
      "Question 3\n",
      "The most popular item is Coffee which sold 4528\n",
      "The least popular item is Adjustment which sold 1\n"
     ]
    }
   ],
   "source": [
    "# 3\n",
    "print('\\nQuestion 3')\n",
    "populars = df.groupby('Item')['Transaction'].nunique()\n",
    "print('The most popular item is',populars.idxmax(), 'which sold', populars.max())\n",
    "print('The least popular item is',populars.idxmin(),'which sold',populars.min())"
   ]
  },
  {
   "cell_type": "code",
   "execution_count": 5,
   "metadata": {},
   "outputs": [
    {
     "name": "stdout",
     "output_type": "stream",
     "text": [
      "\n",
      "Question 4\n",
      "Weekday\n",
      "Friday       1488\n",
      "Monday       1135\n",
      "Saturday     2068\n",
      "Sunday       1264\n",
      "Thursday     1252\n",
      "Tuesday      1203\n",
      "Wednesday    1121\n",
      "Name: Transaction, dtype: int64\n"
     ]
    }
   ],
   "source": [
    "# 4\n",
    "print('\\nQuestion 4')\n",
    "dfx = df.groupby('Weekday')['Transaction'].nunique()\n",
    "print((dfx))"
   ]
  },
  {
   "cell_type": "code",
   "execution_count": 6,
   "metadata": {},
   "outputs": [],
   "source": [
    "df['Date'] = df0['Date']\n"
   ]
  },
  {
   "cell_type": "code",
   "execution_count": 7,
   "metadata": {},
   "outputs": [
    {
     "name": "stdout",
     "output_type": "stream",
     "text": [
      "            Transaction        Day\n",
      "Date                              \n",
      "2016-10-30           79     Sunday\n",
      "2016-10-31           96     Monday\n",
      "2016-11-01           77    Tuesday\n",
      "2016-11-02           83  Wednesday\n",
      "2016-11-03           95   Thursday\n",
      "...                 ...        ...\n",
      "2017-04-05           56     Sunday\n",
      "2017-04-06           52     Monday\n",
      "2017-04-07           45    Tuesday\n",
      "2017-04-08           93  Wednesday\n",
      "2017-04-09           32   Thursday\n",
      "\n",
      "[159 rows x 2 columns]\n"
     ]
    }
   ],
   "source": [
    "dateTr = pd.DataFrame(df.groupby('Date')['Transaction'].nunique())\n",
    "l = len(dateTr)\n",
    "days = ['Sunday','Monday','Tuesday','Wednesday','Thursday','Friday','Saturday'] * (int(l/7)+1)\n",
    "days = days[:l]\n",
    "# dateDay = pd.DataFrame(df.groupby('Date')['Weekday'].unique())\n",
    "# dayx.reset_index(level=0, inplace=True)\n",
    "# print(dateTr)\n",
    "dateTr['Day'] = days\n",
    "print(dateTr)\n",
    "\n",
    "# dateTr.groupby('Day')['Transaction'].sum()"
   ]
  },
  {
   "cell_type": "code",
   "execution_count": 8,
   "metadata": {
    "scrolled": true
   },
   "outputs": [
    {
     "name": "stdout",
     "output_type": "stream",
     "text": [
      "Day\n",
      "Friday       2.0\n",
      "Monday       2.0\n",
      "Saturday     3.0\n",
      "Sunday       2.0\n",
      "Thursday     2.0\n",
      "Tuesday      2.0\n",
      "Wednesday    3.0\n",
      "Name: Transaction, dtype: float64\n"
     ]
    }
   ],
   "source": [
    "baristas = dateTr.groupby('Day')['Transaction'].max()/50\n",
    "print(np.ceil(baristas))"
   ]
  },
  {
   "cell_type": "code",
   "execution_count": 9,
   "metadata": {},
   "outputs": [
    {
     "name": "stdout",
     "output_type": "stream",
     "text": [
      "\n",
      "Question 5\n",
      "Average price of drink and food item\n",
      "label\n",
      "drink     8.43\n",
      "food      4.87\n",
      "unkown    8.51\n",
      "Name: Item_Price, dtype: float64\n"
     ]
    }
   ],
   "source": [
    "# 5\n",
    "print('\\nQuestion 5')\n",
    "label = pd.read_csv(\"labels.csv\")\n",
    "dfLabels = pd.merge(df, label, on='Item', how='left')\n",
    "print(\"Average price of drink and food item\")\n",
    "dfLabelAvg = round(dfLabels.groupby('label')['Item_Price'].mean(),2)\n",
    "print(dfLabelAvg)"
   ]
  },
  {
   "cell_type": "code",
   "execution_count": 10,
   "metadata": {},
   "outputs": [
    {
     "name": "stdout",
     "output_type": "stream",
     "text": [
      "\n",
      "Question 6\n",
      "More money is made from drinks\n"
     ]
    }
   ],
   "source": [
    "# 6\n",
    "print('\\nQuestion 6')\n",
    "print('More money is made from drinks')"
   ]
  },
  {
   "cell_type": "code",
   "execution_count": 11,
   "metadata": {},
   "outputs": [
    {
     "name": "stdout",
     "output_type": "stream",
     "text": [
      "\n",
      "Question 7\n",
      "Top 5 items of  Sunday : \n",
      "Item\n",
      "Coffee    825\n",
      "Bread     473\n",
      "Tea       171\n",
      "Cake      167\n",
      "NONE      138\n",
      "dtype: int64\n",
      "\n",
      "Top 5 items of  Monday : \n",
      "Item\n",
      "Coffee      681\n",
      "Bread       360\n",
      "Tea         193\n",
      "Pastry      105\n",
      "Sandwich    101\n",
      "dtype: int64\n",
      "\n",
      "Top 5 items of  Tuesday : \n",
      "Item\n",
      "Coffee    710\n",
      "Bread     350\n",
      "Tea       194\n",
      "Cake      139\n",
      "Pastry    119\n",
      "dtype: int64\n",
      "\n",
      "Top 5 items of  Wednesday : \n",
      "Item\n",
      "Coffee    628\n",
      "Bread     405\n",
      "Tea       188\n",
      "Cake      123\n",
      "NONE      108\n",
      "dtype: int64\n",
      "\n",
      "Top 5 items of  Thursday : \n",
      "Item\n",
      "Coffee    670\n",
      "Bread     450\n",
      "Tea       183\n",
      "Cake      141\n",
      "Pastry    121\n",
      "dtype: int64\n",
      "\n",
      "Top 5 items of  Friday : \n",
      "Item\n",
      "Coffee      854\n",
      "Bread       527\n",
      "Tea         218\n",
      "Sandwich    134\n",
      "Cake        120\n",
      "dtype: int64\n",
      "\n",
      "Top 5 items of  Saturday : \n",
      "Item\n",
      "Coffee    1103\n",
      "Bread      760\n",
      "Tea        288\n",
      "Cake       246\n",
      "NONE       198\n",
      "dtype: int64\n",
      "\n",
      "The top 3 items- coffee, bread and tea are consistly at the top\n"
     ]
    }
   ],
   "source": [
    "# 7\n",
    "print('\\nQuestion 7')\n",
    "itemList = (df.groupby([\"Weekday\", \"Item\"]).size())\n",
    "# print(itemList)\n",
    "\n",
    "for day in df.Weekday.unique():\n",
    "    print('Top 5 items of ',day, ': ')\n",
    "    print(itemList[day].sort_values(ascending=False)[:5])\n",
    "    print()\n",
    "\n",
    "print('The top 3 items- coffee, bread and tea are consistly at the top')\n"
   ]
  },
  {
   "cell_type": "code",
   "execution_count": 12,
   "metadata": {
    "scrolled": true
   },
   "outputs": [
    {
     "name": "stdout",
     "output_type": "stream",
     "text": [
      "\n",
      "Question 8\n",
      "Bottom 5 items of  Sunday : \n",
      "Item\n",
      "Coffee granules     1\n",
      "Christmas common    1\n",
      "Argentina Night     1\n",
      "Chocolates          1\n",
      "Bacon               1\n",
      "dtype: int64\n",
      "\n",
      "Bottom 5 items of  Monday : \n",
      "Item\n",
      "Dulce de Leche                1\n",
      "Crisps                        1\n",
      "Pick and Mix Bowls            1\n",
      "Mighty Protein                1\n",
      "Drinking chocolate spoons     1\n",
      "dtype: int64\n",
      "\n",
      "Bottom 5 items of  Tuesday : \n",
      "Item\n",
      "Honey                  1\n",
      "Nomad bag              1\n",
      "Kids biscuit           1\n",
      "Half slice Monster     1\n",
      "Granola                1\n",
      "dtype: int64\n",
      "\n",
      "Bottom 5 items of  Wednesday : \n",
      "Item\n",
      "Adjustment        1\n",
      "Vegan Feast       1\n",
      "Raw bars          1\n",
      "Polenta           1\n",
      "Olum & polenta    1\n",
      "dtype: int64\n",
      "\n",
      "Bottom 5 items of  Thursday : \n",
      "Item\n",
      "Lemon and coconut             1\n",
      "Argentina Night               1\n",
      "Duck egg                      1\n",
      "Spread                        1\n",
      "Drinking chocolate spoons     1\n",
      "dtype: int64\n",
      "\n",
      "Bottom 5 items of  Friday : \n",
      "Item\n",
      "Honey               1\n",
      "Mighty Protein      1\n",
      "Panatone            1\n",
      "Coffee granules     1\n",
      "Fairy Doors         1\n",
      "dtype: int64\n",
      "\n",
      "Bottom 5 items of  Saturday : \n",
      "Item\n",
      "Victorian Sponge          1\n",
      "Lemon and coconut         1\n",
      "Mortimer                  1\n",
      "Fairy Doors               1\n",
      "Ella's Kitchen Pouches    1\n",
      "dtype: int64\n",
      "\n",
      "The least popular items are not consistent\n"
     ]
    }
   ],
   "source": [
    "# 8\n",
    "print('\\nQuestion 8')\n",
    "itemList = (df.groupby([\"Weekday\", \"Item\"]).size())\n",
    "# print(itemList)\n",
    "\n",
    "for day in df.Weekday.unique():\n",
    "    print('Bottom 5 items of ',day, ': ')\n",
    "    print(itemList[day].sort_values(ascending=True)[:5])\n",
    "    print()\n",
    "\n",
    "print('The least popular items are not consistent')\n"
   ]
  },
  {
   "cell_type": "code",
   "execution_count": 13,
   "metadata": {},
   "outputs": [
    {
     "name": "stdout",
     "output_type": "stream",
     "text": [
      "\n",
      "Question 9\n",
      "Average number of drinks is =  2.23\n"
     ]
    }
   ],
   "source": [
    "# 9\n",
    "print('\\nQuestion 9')\n",
    "drinkList = dfLabels[dfLabels.label == 'drink']\n",
    "drinkList = pd.DataFrame(dfLabels.groupby('Transaction')['label'].size())\n",
    "# print(drinkList)\n",
    "drinksbought = drinkList['label'].sum()\n",
    "# print(drinksbought)\n",
    "transactions = pd.DataFrame(df.groupby('Date')['Transaction'].nunique())\n",
    "totalTransactions = transactions['Transaction'].sum()\n",
    "# print(transactions)\n",
    "print('Average number of drinks is = ',round(drinksbought/totalTransactions,2))"
   ]
  },
  {
   "cell_type": "code",
   "execution_count": null,
   "metadata": {},
   "outputs": [],
   "source": []
  }
 ],
 "metadata": {
  "kernelspec": {
   "display_name": "Python 3",
   "language": "python",
   "name": "python3"
  },
  "language_info": {
   "codemirror_mode": {
    "name": "ipython",
    "version": 3
   },
   "file_extension": ".py",
   "mimetype": "text/x-python",
   "name": "python",
   "nbconvert_exporter": "python",
   "pygments_lexer": "ipython3",
   "version": "3.7.4"
  }
 },
 "nbformat": 4,
 "nbformat_minor": 2
}
