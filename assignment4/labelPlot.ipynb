{
 "cells": [
  {
   "cell_type": "code",
   "execution_count": 2,
   "metadata": {},
   "outputs": [],
   "source": [
    "import pandas as pd\n",
    "import numpy as np\n",
    "import os\n",
    "import sys\n",
    "import math\n",
    "import matplotlib.pyplot as plt\n",
    "\n",
    "\n",
    "fileName = \"KOLabels.csv\"\n",
    "df = pd.read_csv(fileName)"
   ]
  },
  {
   "cell_type": "code",
   "execution_count": 3,
   "metadata": {},
   "outputs": [],
   "source": [
    "def scale(nums, numMax, numMin, newMin=0, newMax=1):\n",
    "    res = []\n",
    "    for n in nums:\n",
    "        r = (nums - numMin)*((newMax - newMin) / (numMax - numMin))\n",
    "        r += newMin\n",
    "        res.append(r)\n",
    "    return res"
   ]
  },
  {
   "cell_type": "code",
   "execution_count": 4,
   "metadata": {},
   "outputs": [],
   "source": [
    "def meanSDRanges(data):\n",
    "    # print(days)\n",
    "    meanRange = data['Mean'].max(), data['Mean'].min()\n",
    "    SDRange = data['SD'].max(), data['SD'].min()\n",
    "    meanList = list(data['Mean'])\n",
    "\n",
    "    meanList = scale(meanList,meanRange[0], meanRange[1], 0, 1,)\n",
    "    sdList = scale(list(data['SD']),SDRange[0],SDRange[1])\n",
    "    # print(df.head())\n",
    "    # print(meanList)\n",
    "    return meanList,sdList\n"
   ]
  },
  {
   "cell_type": "code",
   "execution_count": 5,
   "metadata": {
    "scrolled": true
   },
   "outputs": [],
   "source": [
    "df2018 = df[:53]\n",
    "df2019 = df[53:]\n",
    "df2018Good = df2018['Label'] == 'Good'\n",
    "df2019Good = df2019['Label'] == 'Good'\n",
    "df2018Bad = df2018['Label'] == 'Bad'\n",
    "df2019Bad = df2019['Label'] == 'Bad'"
   ]
  },
  {
   "cell_type": "code",
   "execution_count": 6,
   "metadata": {},
   "outputs": [],
   "source": [
    "mean2018Good,sd2018Good = meanSDRanges(df2018[df2018Good])\n",
    "mean2018Bad,sd2018Bad = meanSDRanges(df2018[df2018Bad])\n",
    "mean2019Good,sd2019Good = meanSDRanges(df2019[df2019Good])\n",
    "mean2019Bad,sd2019Bad = meanSDRanges(df2019[df2019Bad])"
   ]
  },
  {
   "cell_type": "code",
   "execution_count": 7,
   "metadata": {},
   "outputs": [
    {
     "data": {
      "image/png": "[encoded data removed]",
      "text/plain": [
       "<Figure size 432x288 with 1 Axes>"
      ]
     },
     "metadata": {
      "needs_background": "light"
     },
     "output_type": "display_data"
    }
   ],
   "source": [
    "fig2018 = plt.figure()\n",
    "pl2018 = fig2018.add_subplot(111)\n",
    "pl2018.scatter(mean2018Good,sd2018Good, c='green')\n",
    "pl2018.scatter(mean2018Bad,sd2018Bad, c='red')\n",
    "pl2018.set_xlabel('Mean')\n",
    "pl2018.set_ylabel('SD')\n",
    "plt.show()"
   ]
  },
  {
   "cell_type": "code",
   "execution_count": 9,
   "metadata": {},
   "outputs": [
    {
     "data": {
      "image/png": "[encoded data removed]",
      "text/plain": [
       "<Figure size 432x288 with 1 Axes>"
      ]
     },
     "metadata": {
      "needs_background": "light"
     },
     "output_type": "display_data"
    }
   ],
   "source": [
    "fig2019 = plt.figure()\n",
    "pl2019 = fig2019.add_subplot(111)\n",
    "pl2019.scatter(mean2019Good,sd2019Good, c='green')\n",
    "pl2019.scatter(mean2019Bad,sd2019Bad, c='red')\n",
    "pl2019.set_xlabel('Mean')\n",
    "pl2019.set_ylabel('SD')\n",
    "plt.show()"
   ]
  },
  {
   "cell_type": "code",
   "execution_count": null,
   "metadata": {},
   "outputs": [],
   "source": []
  }
 ],
 "metadata": {
  "kernelspec": {
   "display_name": "Python 3",
   "language": "python",
   "name": "python3"
  },
  "language_info": {
   "codemirror_mode": {
    "name": "ipython",
    "version": 3
   },
   "file_extension": ".py",
   "mimetype": "text/x-python",
   "name": "python",
   "nbconvert_exporter": "python",
   "pygments_lexer": "ipython3",
   "version": "3.7.4"
  }
 },
 "nbformat": 4,
 "nbformat_minor": 2
}
