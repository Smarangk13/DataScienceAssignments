{
 "cells": [
  {
   "cell_type": "code",
   "execution_count": 1,
   "metadata": {},
   "outputs": [],
   "source": [
    "import pandas as pd\n",
    "import numpy as np\n",
    "import matplotlib.pyplot as plt\n",
    "from sklearn.ensemble import RandomForestClassifier\n",
    "\n",
    "from sklearn.metrics import accuracy_score\n",
    "from sklearn.metrics import confusion_matrix"
   ]
  },
  {
   "cell_type": "code",
   "execution_count": 2,
   "metadata": {},
   "outputs": [],
   "source": [
    "fileName = \"KOLabels.csv\"\n",
    "df = pd.read_csv(fileName)\n",
    "df2018 = df[:53]\n",
    "df2019 = df[53:]"
   ]
  },
  {
   "cell_type": "code",
   "execution_count": 3,
   "metadata": {},
   "outputs": [],
   "source": [
    "X_train = df2018[['Mean','SD']]\n",
    "y_train = np.array(df2018['Label'])"
   ]
  },
  {
   "cell_type": "code",
   "execution_count": 4,
   "metadata": {},
   "outputs": [
    {
     "name": "stdout",
     "output_type": "stream",
     "text": [
      "Question 1\n"
     ]
    }
   ],
   "source": [
    "#Question 1\n",
    "print('Question 1')\n",
    "bestT = 0\n",
    "bestD = 0\n",
    "bestAcc = 0\n",
    "errors = []\n",
    "for trees in range(1,10):\n",
    "    dErrors = []\n",
    "    for depth in range(1,5):\n",
    "        clf = RandomForestClassifier(n_estimators = trees, max_depth=depth, random_state=0)\n",
    "        clf.fit(X_train, y_train)\n",
    "        y_pred = clf.predict(df2019[['Mean', 'SD']])\n",
    "        y_true = np.array(df2019['Label'])\n",
    "        yAcc = accuracy_score(y_true, y_pred)\n",
    "        dErrors.append(yAcc)\n",
    "        if yAcc > bestAcc:\n",
    "            bestT= trees\n",
    "            bestD = depth\n",
    "    errors.append(dErrors)\n"
   ]
  },
  {
   "cell_type": "code",
   "execution_count": 5,
   "metadata": {},
   "outputs": [
    {
     "data": {
      "image/png": "[encoded data removed]",
      "text/plain": [
       "<Figure size 432x288 with 1 Axes>"
      ]
     },
     "metadata": {
      "needs_background": "light"
     },
     "output_type": "display_data"
    }
   ],
   "source": [
    "plt.hist(errors)\n",
    "plt.show()"
   ]
  },
  {
   "cell_type": "code",
   "execution_count": 6,
   "metadata": {},
   "outputs": [
    {
     "name": "stdout",
     "output_type": "stream",
     "text": [
      "Best value of n =  9\n",
      "Best value of d =  4\n"
     ]
    }
   ],
   "source": [
    "print('Best value of n = ',bestT)\n",
    "print('Best value of d = ',bestD)"
   ]
  },
  {
   "cell_type": "code",
   "execution_count": 7,
   "metadata": {},
   "outputs": [
    {
     "name": "stdout",
     "output_type": "stream",
     "text": [
      "Question 2\n",
      "[[15  9]\n",
      " [ 9 19]]\n"
     ]
    }
   ],
   "source": [
    "#Question 2\n",
    "print('Question 2')\n",
    "clf = RandomForestClassifier(n_estimators = bestT, max_depth=bestD, random_state=0)\n",
    "clf.fit(X_train, y_train)\n",
    "y_pred = clf.predict(df2019[['Mean', 'SD']])\n",
    "\n",
    "cf = confusion_matrix(df2019['Label'], y_pred)\n",
    "\n",
    "print(cf)"
   ]
  },
  {
   "cell_type": "code",
   "execution_count": 8,
   "metadata": {},
   "outputs": [
    {
     "name": "stdout",
     "output_type": "stream",
     "text": [
      "\n",
      "Question 3\n",
      "True positive rate = 36.54 %\n",
      "True negative rate = 28.85 %\n"
     ]
    }
   ],
   "source": [
    "print('\\nQuestion 3')\n",
    "tn, fp, fn, tp  = cf.ravel()\n",
    "print('True positive rate =',round(tp/len(df2019)*100,2),'%')\n",
    "print('True negative rate =',round(tn/len(df2019)*100,2),'%')\n"
   ]
  },
  {
   "cell_type": "code",
   "execution_count": 9,
   "metadata": {},
   "outputs": [
    {
     "name": "stdout",
     "output_type": "stream",
     "text": [
      "\n",
      "Question 4\n",
      "Buy and Hold profit =  [-5487.43]\n",
      "Trading based on new labels = 5229.6694558888785\n",
      "Use Random forest labels\n"
     ]
    },
    {
     "name": "stderr",
     "output_type": "stream",
     "text": [
      "c:\\python37\\lib\\site-packages\\ipykernel_launcher.py:4: SettingWithCopyWarning: \n",
      "A value is trying to be set on a copy of a slice from a DataFrame.\n",
      "Try using .loc[row_indexer,col_indexer] = value instead\n",
      "\n",
      "See the caveats in the documentation: http://pandas.pydata.org/pandas-docs/stable/user_guide/indexing.html#returning-a-view-versus-a-copy\n",
      "  after removing the cwd from sys.path.\n"
     ]
    }
   ],
   "source": [
    "#Question 4\n",
    "print('\\nQuestion 4')\n",
    "df2019New = df2019\n",
    "df2019New['Label'] = y_pred\n",
    "\n",
    "closeValues = df2019[['Close']].values\n",
    "buyHold = closeValues[0]- closeValues[-1] * 100\n",
    "\n",
    "# label trade\n",
    "position = None\n",
    "money = 100\n",
    "shares = 0\n",
    "totalBalance = 0\n",
    "for index, row in df2019New.iterrows():\n",
    "    label = row['Label']\n",
    "    if label == 'Good':\n",
    "        if position == None:\n",
    "            shares = money / float(row['Close'])\n",
    "            position = 'Hold'\n",
    "    else:\n",
    "        if position == 'Hold':\n",
    "            money = shares * float(row['Close'])\n",
    "            position = None\n",
    "\n",
    "    totalBalance += money\n",
    "\n",
    "totalBalance += shares * float(df2019New[-1:]['Close'])\n",
    "\n",
    "print('Buy and Hold profit = ',buyHold)\n",
    "print('Trading based on new labels =',totalBalance-100)\n",
    "\n",
    "if buyHold > (totalBalance-100):\n",
    "    print('Use Buy and hold')\n",
    "\n",
    "else:\n",
    "    print('Use Random forest labels')"
   ]
  },
  {
   "cell_type": "code",
   "execution_count": null,
   "metadata": {},
   "outputs": [],
   "source": []
  }
 ],
 "metadata": {
  "kernelspec": {
   "display_name": "Python 3",
   "language": "python",
   "name": "python3"
  },
  "language_info": {
   "codemirror_mode": {
    "name": "ipython",
    "version": 3
   },
   "file_extension": ".py",
   "mimetype": "text/x-python",
   "name": "python",
   "nbconvert_exporter": "python",
   "pygments_lexer": "ipython3",
   "version": "3.7.4"
  }
 },
 "nbformat": 4,
 "nbformat_minor": 2
}
