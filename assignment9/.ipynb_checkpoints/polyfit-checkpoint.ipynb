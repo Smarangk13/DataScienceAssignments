{
 "cells": [
  {
   "cell_type": "code",
   "execution_count": 1,
   "metadata": {},
   "outputs": [],
   "source": [
    "import pandas as pd\n",
    "import numpy as np\n",
    "\n",
    "from sklearn.linear_model import LogisticRegression\n",
    "\n",
    "from sklearn.metrics import accuracy_score\n",
    "from sklearn.metrics import confusion_matrix"
   ]
  },
  {
   "cell_type": "code",
   "execution_count": 2,
   "metadata": {},
   "outputs": [],
   "source": [
    "fileName = \"KOLabels.csv\"\n",
    "df = pd.read_csv(fileName)\n",
    "df2018 = df[:53]\n",
    "df2019 = df[53:]"
   ]
  },
  {
   "cell_type": "code",
   "execution_count": 3,
   "metadata": {},
   "outputs": [],
   "source": [
    "X_train = df2018[['Mean','SD']]\n",
    "y_train = np.array(df2018['Label'])"
   ]
  },
  {
   "cell_type": "code",
   "execution_count": 4,
   "metadata": {},
   "outputs": [
    {
     "name": "stdout",
     "output_type": "stream",
     "text": [
      "Question 1\n",
      "accuracy =  53.85 %\n"
     ]
    }
   ],
   "source": [
    "#Question 1\n",
    "print('Question 1')\n",
    "\n",
    "clf = LogisticRegression(random_state=0)\n",
    "clf.fit(X_train, y_train)\n",
    "y_pred = clf.predict(df2019[['Mean', 'SD']])\n",
    "y_true = np.array(df2019['Label'])\n",
    "yAcc = accuracy_score(y_true, y_pred)\n",
    "\n",
    "print('accuracy = ', round(yAcc*100,2),'%')"
   ]
  },
  {
   "cell_type": "code",
   "execution_count": 5,
   "metadata": {},
   "outputs": [
    {
     "name": "stdout",
     "output_type": "stream",
     "text": [
      "Question 2\n",
      "[[ 0 24]\n",
      " [ 0 28]]\n"
     ]
    }
   ],
   "source": [
    "#Question 2\n",
    "print('Question 2')\n",
    "cf = confusion_matrix(df2019['Label'], y_pred)\n",
    "\n",
    "print(cf)"
   ]
  },
  {
   "cell_type": "code",
   "execution_count": 6,
   "metadata": {},
   "outputs": [
    {
     "name": "stdout",
     "output_type": "stream",
     "text": [
      "\n",
      "Question 3\n",
      "True positive rate = 53.85 %\n",
      "True negative rate = 0.0 %\n"
     ]
    }
   ],
   "source": [
    "print('\\nQuestion 3')\n",
    "tn, fp, fn, tp  = cf.ravel()\n",
    "print('True positive rate =',round(tp/len(df2019)*100,2),'%')\n",
    "print('True negative rate =',round(tn/len(df2019)*100,2),'%')\n"
   ]
  },
  {
   "cell_type": "code",
   "execution_count": 7,
   "metadata": {},
   "outputs": [
    {
     "name": "stdout",
     "output_type": "stream",
     "text": [
      "\n",
      "Question 4\n",
      "Buy and Hold profit =  [-5487.43]\n",
      "Trading based on new labels = 5216.354845490856\n",
      "Use logistic regression labels\n"
     ]
    },
    {
     "name": "stderr",
     "output_type": "stream",
     "text": [
      "c:\\python37\\lib\\site-packages\\ipykernel_launcher.py:4: SettingWithCopyWarning: \n",
      "A value is trying to be set on a copy of a slice from a DataFrame.\n",
      "Try using .loc[row_indexer,col_indexer] = value instead\n",
      "\n",
      "See the caveats in the documentation: http://pandas.pydata.org/pandas-docs/stable/user_guide/indexing.html#returning-a-view-versus-a-copy\n",
      "  after removing the cwd from sys.path.\n"
     ]
    }
   ],
   "source": [
    "#Question 4\n",
    "print('\\nQuestion 4')\n",
    "df2019New = df2019\n",
    "df2019New['Label'] = y_pred\n",
    "\n",
    "closeValues = df2019[['Close']].values\n",
    "buyHold = closeValues[0]- closeValues[-1] * 100\n",
    "\n",
    "# label trade\n",
    "position = None\n",
    "money = 100\n",
    "shares = 0\n",
    "totalBalance = 0\n",
    "for index, row in df2019New.iterrows():\n",
    "    label = row['Label']\n",
    "    if label == 'Good':\n",
    "        if position == None:\n",
    "            shares = money / float(row['Close'])\n",
    "            position = 'Hold'\n",
    "    else:\n",
    "        if position == 'Hold':\n",
    "            money = shares * float(row['Close'])\n",
    "            position = None\n",
    "\n",
    "    totalBalance += money\n",
    "\n",
    "totalBalance += shares * float(df2019New[-1:]['Close'])\n",
    "\n",
    "print('Buy and Hold profit = ',buyHold)\n",
    "print('Trading based on new labels =',totalBalance-100)\n",
    "\n",
    "if buyHold > (totalBalance-100):\n",
    "    print('Use Buy and hold')\n",
    "\n",
    "else:\n",
    "    print('Use logistic regression labels')"
   ]
  },
  {
   "cell_type": "code",
   "execution_count": null,
   "metadata": {},
   "outputs": [],
   "source": []
  }
 ],
 "metadata": {
  "kernelspec": {
   "display_name": "Python 3",
   "language": "python",
   "name": "python3"
  },
  "language_info": {
   "codemirror_mode": {
    "name": "ipython",
    "version": 3
   },
   "file_extension": ".py",
   "mimetype": "text/x-python",
   "name": "python",
   "nbconvert_exporter": "python",
   "pygments_lexer": "ipython3",
   "version": "3.7.4"
  }
 },
 "nbformat": 4,
 "nbformat_minor": 2
}
