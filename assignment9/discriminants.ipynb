{
 "cells": [
  {
   "cell_type": "code",
   "execution_count": 1,
   "metadata": {},
   "outputs": [],
   "source": [
    "import pandas as pd\n",
    "import numpy as np\n",
    "import numpy as np\n",
    "from sklearn.discriminant_analysis import LinearDiscriminantAnalysis\n",
    "from sklearn.discriminant_analysis import QuadraticDiscriminantAnalysis\n",
    "from sklearn.metrics import accuracy_score\n",
    "from sklearn.metrics import confusion_matrix"
   ]
  },
  {
   "cell_type": "code",
   "execution_count": 2,
   "metadata": {},
   "outputs": [],
   "source": [
    "fileName = \"KOLabels.csv\"\n",
    "df = pd.read_csv(fileName)\n",
    "df2018 = df[:53]\n",
    "df2019 = df[53:]"
   ]
  },
  {
   "cell_type": "code",
   "execution_count": 3,
   "metadata": {},
   "outputs": [],
   "source": [
    "linearModel = LinearDiscriminantAnalysis()\n",
    "quadraticModel = QuadraticDiscriminantAnalysis()"
   ]
  },
  {
   "cell_type": "code",
   "execution_count": 4,
   "metadata": {},
   "outputs": [],
   "source": [
    "X_train = df2018[['Mean','SD']]\n",
    "y_train = np.array(df2018['Label'])"
   ]
  },
  {
   "cell_type": "code",
   "execution_count": 5,
   "metadata": {},
   "outputs": [
    {
     "data": {
      "text/plain": [
       "QuadraticDiscriminantAnalysis(priors=None, reg_param=0.0,\n",
       "                              store_covariance=False, tol=0.0001)"
      ]
     },
     "execution_count": 5,
     "metadata": {},
     "output_type": "execute_result"
    }
   ],
   "source": [
    "linearModel.fit(X_train, y_train)\n",
    "quadraticModel.fit(X_train,y_train)"
   ]
  },
  {
   "cell_type": "code",
   "execution_count": 6,
   "metadata": {},
   "outputs": [
    {
     "name": "stdout",
     "output_type": "stream",
     "text": [
      "Question 1\n",
      "Linear discriminant coefficients =  [[ 0.43391203 -0.53985173]]\n",
      "Linear discriminant intercept =  [0.38661082]\n"
     ]
    }
   ],
   "source": [
    "#Question 1\n",
    "print('Question 1')\n",
    "print('Linear discriminant coefficients = ', linearModel.coef_)\n",
    "print('Linear discriminant intercept = ', linearModel.intercept_ )"
   ]
  },
  {
   "cell_type": "code",
   "execution_count": 7,
   "metadata": {},
   "outputs": [
    {
     "name": "stdout",
     "output_type": "stream",
     "text": [
      "\n",
      "Question 2\n"
     ]
    }
   ],
   "source": [
    "#Question 2\n",
    "print('\\nQuestion 2')\n",
    "lin_pred = linearModel.predict(df2019[['Mean', 'SD']])\n",
    "q_pred = quadraticModel.predict(df2019[['Mean', 'SD']])\n",
    "y_true = np.array(df2019['Label'])\n",
    "lAcc = accuracy_score(y_true, lin_pred)\n",
    "qAcc = accuracy_score(y_true, q_pred)\n"
   ]
  },
  {
   "cell_type": "code",
   "execution_count": 8,
   "metadata": {},
   "outputs": [
    {
     "name": "stdout",
     "output_type": "stream",
     "text": [
      "Quadratic is better\n"
     ]
    }
   ],
   "source": [
    "if lAcc > qAcc:\n",
    "    print('Linear is better')\n",
    "else:\n",
    "    print('Quadratic is better')"
   ]
  },
  {
   "cell_type": "code",
   "execution_count": 9,
   "metadata": {},
   "outputs": [
    {
     "name": "stdout",
     "output_type": "stream",
     "text": [
      "\n",
      "Question 3\n",
      "Linear Confusion matrix\n",
      "[[ 0 24]\n",
      " [ 0 28]]\n",
      "\n",
      "Quadratic Condusion matrix\n",
      "[[16  8]\n",
      " [ 8 20]]\n"
     ]
    }
   ],
   "source": [
    "#Question 3\n",
    "print('\\nQuestion 3')\n",
    "lcf = confusion_matrix(df2019['Label'], lin_pred)\n",
    "qcf = confusion_matrix(df2019['Label'], q_pred)\n",
    "\n",
    "print('Linear Confusion matrix')\n",
    "print(lcf)\n",
    "print('\\nQuadratic Condusion matrix')\n",
    "print(qcf)\n"
   ]
  },
  {
   "cell_type": "code",
   "execution_count": 10,
   "metadata": {},
   "outputs": [
    {
     "name": "stdout",
     "output_type": "stream",
     "text": [
      "\n",
      "Question 4\n",
      "For Lienar\n",
      "True positive rate =  53.85\n",
      "True negative rate =  0.0\n",
      "\n",
      "For Quadtratic\n",
      "True positive rate =  38.46\n",
      "True negative rate =  30.77\n"
     ]
    }
   ],
   "source": [
    "#Question 4\n",
    "print('\\nQuestion 4')\n",
    "tn, fp, fn, tp  = lcf.ravel()\n",
    "print('For Lienar')\n",
    "print('True positive rate = ',round(tp/len(df2019)*100,2))\n",
    "print('True negative rate = ',round(tn/len(df2019)*100,2))\n",
    "\n",
    "print()\n",
    "tn, fp, fn, tp  = qcf.ravel()\n",
    "print('For Quadtratic')\n",
    "print('True positive rate = ',round(tp/len(df2019)*100,2))\n",
    "print('True negative rate = ',round(tn/len(df2019)*100,2))"
   ]
  },
  {
   "cell_type": "code",
   "execution_count": 11,
   "metadata": {},
   "outputs": [
    {
     "name": "stdout",
     "output_type": "stream",
     "text": [
      "\n",
      "Question 5\n"
     ]
    }
   ],
   "source": [
    "#Question 5\n",
    "print('\\nQuestion 5')\n",
    "\n",
    "closeValues = df2019[['Close']].values\n",
    "buyHold = closeValues[0]- closeValues[-1] * 100"
   ]
  },
  {
   "cell_type": "code",
   "execution_count": 12,
   "metadata": {},
   "outputs": [],
   "source": [
    "def labelTrade(dfx):\n",
    "    # label trade\n",
    "    position = None\n",
    "    money = 100\n",
    "    shares = 0\n",
    "    totalBalance = 0\n",
    "    for index, row in dfx.iterrows():\n",
    "        label = row['Label']\n",
    "        if label == 'Good':\n",
    "            if position == None:\n",
    "                shares = money / float(row['Close'])\n",
    "                position = 'Hold'\n",
    "        else:\n",
    "            if position == 'Hold':\n",
    "                money = shares * float(row['Close'])\n",
    "                position = None\n",
    "\n",
    "        totalBalance += money\n",
    "\n",
    "    totalBalance += shares * float(dfx[-1:]['Close'])\n",
    "    \n",
    "    return totalBalance"
   ]
  },
  {
   "cell_type": "code",
   "execution_count": 13,
   "metadata": {},
   "outputs": [
    {
     "name": "stderr",
     "output_type": "stream",
     "text": [
      "c:\\python37\\lib\\site-packages\\ipykernel_launcher.py:2: SettingWithCopyWarning: \n",
      "A value is trying to be set on a copy of a slice from a DataFrame.\n",
      "Try using .loc[row_indexer,col_indexer] = value instead\n",
      "\n",
      "See the caveats in the documentation: http://pandas.pydata.org/pandas-docs/stable/user_guide/indexing.html#returning-a-view-versus-a-copy\n",
      "  \n",
      "c:\\python37\\lib\\site-packages\\ipykernel_launcher.py:7: SettingWithCopyWarning: \n",
      "A value is trying to be set on a copy of a slice from a DataFrame.\n",
      "Try using .loc[row_indexer,col_indexer] = value instead\n",
      "\n",
      "See the caveats in the documentation: http://pandas.pydata.org/pandas-docs/stable/user_guide/indexing.html#returning-a-view-versus-a-copy\n",
      "  import sys\n"
     ]
    }
   ],
   "source": [
    "df2019Lin = df2019\n",
    "df2019Lin['Label'] = lin_pred\n",
    "linMoney = labelTrade(df2019Lin)\n",
    "lprofit = linMoney - 100\n",
    "\n",
    "df2019q = df2019\n",
    "df2019q['Label'] = q_pred\n",
    "qMoney = labelTrade(df2019q)\n",
    "qprofit = qMoney - 100"
   ]
  },
  {
   "cell_type": "code",
   "execution_count": 14,
   "metadata": {},
   "outputs": [
    {
     "name": "stdout",
     "output_type": "stream",
     "text": [
      "Buy and Hold profit =  [-5487.43]\n",
      "Trading based on linear labels = 5216.354845490856\n",
      "Trading based on quadratic labels = 5193.127736921997\n"
     ]
    }
   ],
   "source": [
    "print('Buy and Hold profit = ', buyHold)\n",
    "print('Trading based on linear labels =', lprofit)\n",
    "print('Trading based on quadratic labels =', qprofit)\n"
   ]
  },
  {
   "cell_type": "code",
   "execution_count": 15,
   "metadata": {},
   "outputs": [
    {
     "name": "stdout",
     "output_type": "stream",
     "text": [
      "Linear is the best\n"
     ]
    }
   ],
   "source": [
    "if buyHold > lprofit and buyHold > qprofit:\n",
    "    print('Buy and hold is best')\n",
    "    \n",
    "elif lprofit > qprofit and lprofit > buyHold:\n",
    "    print('Linear is the best')\n",
    "\n",
    "else:\n",
    "    print('Quadratic is the best')"
   ]
  },
  {
   "cell_type": "code",
   "execution_count": null,
   "metadata": {},
   "outputs": [],
   "source": []
  }
 ],
 "metadata": {
  "kernelspec": {
   "display_name": "Python 3",
   "language": "python",
   "name": "python3"
  },
  "language_info": {
   "codemirror_mode": {
    "name": "ipython",
    "version": 3
   },
   "file_extension": ".py",
   "mimetype": "text/x-python",
   "name": "python",
   "nbconvert_exporter": "python",
   "pygments_lexer": "ipython3",
   "version": "3.7.4"
  }
 },
 "nbformat": 4,
 "nbformat_minor": 2
}
