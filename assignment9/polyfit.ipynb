{
 "cells": [
  {
   "cell_type": "code",
   "execution_count": 2,
   "metadata": {},
   "outputs": [],
   "source": [
    "import pandas as pd\n",
    "import numpy as np\n",
    "\n",
    "from sklearn.preprocessing import PolynomialFeatures\n",
    "\n",
    "from sklearn.metrics import accuracy_score\n",
    "from sklearn.metrics import confusion_matrix"
   ]
  },
  {
   "cell_type": "code",
   "execution_count": 3,
   "metadata": {},
   "outputs": [],
   "source": [
    "fileName = \"KOLabels.csv\"\n",
    "df = pd.read_csv(fileName)\n",
    "df2018 = df[:53]\n",
    "df2019 = df[53:]"
   ]
  },
  {
   "cell_type": "code",
   "execution_count": 6,
   "metadata": {},
   "outputs": [],
   "source": [
    "X_train = df2018[['Close']]\n",
    "y_train = np.array(df2018['Label'])"
   ]
  },
  {
   "cell_type": "code",
   "execution_count": 8,
   "metadata": {},
   "outputs": [
    {
     "name": "stdout",
     "output_type": "stream",
     "text": [
      "Question 1\n"
     ]
    },
    {
     "data": {
      "text/plain": [
       "array([[1.0000000e+00, 4.6070000e+01, 2.1224449e+03],\n",
       "       [1.0000000e+00, 4.6150000e+01, 2.1298225e+03],\n",
       "       [1.0000000e+00, 4.7160000e+01, 2.2240656e+03],\n",
       "       [1.0000000e+00, 4.8530000e+01, 2.3551609e+03],\n",
       "       [1.0000000e+00, 4.6730000e+01, 2.1836929e+03],\n",
       "       [1.0000000e+00, 4.3130000e+01, 1.8601969e+03],\n",
       "       [1.0000000e+00, 4.4980000e+01, 2.0232004e+03],\n",
       "       [1.0000000e+00, 4.4040000e+01, 1.9395216e+03],\n",
       "       [1.0000000e+00, 4.3720000e+01, 1.9114384e+03],\n",
       "       [1.0000000e+00, 4.4820000e+01, 2.0088324e+03],\n",
       "       [1.0000000e+00, 4.3460000e+01, 1.8887716e+03],\n",
       "       [1.0000000e+00, 4.2330000e+01, 1.7918289e+03],\n",
       "       [1.0000000e+00, 4.3430000e+01, 1.8861649e+03],\n",
       "       [1.0000000e+00, 4.3920000e+01, 1.9289664e+03],\n",
       "       [1.0000000e+00, 4.4510000e+01, 1.9811401e+03],\n",
       "       [1.0000000e+00, 4.3740000e+01, 1.9131876e+03],\n",
       "       [1.0000000e+00, 4.3310000e+01, 1.8757561e+03],\n",
       "       [1.0000000e+00, 4.2360000e+01, 1.7943696e+03],\n",
       "       [1.0000000e+00, 4.2140000e+01, 1.7757796e+03],\n",
       "       [1.0000000e+00, 4.2180000e+01, 1.7791524e+03],\n",
       "       [1.0000000e+00, 4.2400000e+01, 1.7977600e+03],\n",
       "       [1.0000000e+00, 4.3120000e+01, 1.8593344e+03],\n",
       "       [1.0000000e+00, 4.3950000e+01, 1.9316025e+03],\n",
       "       [1.0000000e+00, 4.4120000e+01, 1.9465744e+03],\n",
       "       [1.0000000e+00, 4.3250000e+01, 1.8705625e+03],\n",
       "       [1.0000000e+00, 4.3860000e+01, 1.9236996e+03],\n",
       "       [1.0000000e+00, 4.4640000e+01, 1.9927296e+03],\n",
       "       [1.0000000e+00, 4.4740000e+01, 2.0016676e+03],\n",
       "       [1.0000000e+00, 4.5280000e+01, 2.0502784e+03],\n",
       "       [1.0000000e+00, 4.6210000e+01, 2.1353641e+03],\n",
       "       [1.0000000e+00, 4.6620000e+01, 2.1734244e+03],\n",
       "       [1.0000000e+00, 4.6080000e+01, 2.1233664e+03],\n",
       "       [1.0000000e+00, 4.6600000e+01, 2.1715600e+03],\n",
       "       [1.0000000e+00, 4.5630000e+01, 2.0820969e+03],\n",
       "       [1.0000000e+00, 4.4570000e+01, 1.9864849e+03],\n",
       "       [1.0000000e+00, 4.5720000e+01, 2.0903184e+03],\n",
       "       [1.0000000e+00, 4.5990000e+01, 2.1150801e+03],\n",
       "       [1.0000000e+00, 4.6580000e+01, 2.1696964e+03],\n",
       "       [1.0000000e+00, 4.6190000e+01, 2.1335161e+03],\n",
       "       [1.0000000e+00, 4.5880000e+01, 2.1049744e+03],\n",
       "       [1.0000000e+00, 4.4680000e+01, 1.9963024e+03],\n",
       "       [1.0000000e+00, 4.6330000e+01, 2.1464689e+03],\n",
       "       [1.0000000e+00, 4.5920000e+01, 2.1086464e+03],\n",
       "       [1.0000000e+00, 4.8000000e+01, 2.3040000e+03],\n",
       "       [1.0000000e+00, 4.9680000e+01, 2.4681024e+03],\n",
       "       [1.0000000e+00, 5.0170000e+01, 2.5170289e+03],\n",
       "       [1.0000000e+00, 4.9020000e+01, 2.4029604e+03],\n",
       "       [1.0000000e+00, 5.0400000e+01, 2.5401600e+03],\n",
       "       [1.0000000e+00, 4.9090000e+01, 2.4098281e+03],\n",
       "       [1.0000000e+00, 4.9340000e+01, 2.4344356e+03],\n",
       "       [1.0000000e+00, 4.7570000e+01, 2.2629049e+03],\n",
       "       [1.0000000e+00, 4.7200000e+01, 2.2278400e+03],\n",
       "       [1.0000000e+00, 4.7350000e+01, 2.2420225e+03]])"
      ]
     },
     "execution_count": 8,
     "metadata": {},
     "output_type": "execute_result"
    }
   ],
   "source": [
    "#Question 1\n",
    "print('Question 1')\n",
    "\n",
    "poly = PolynomialFeatures(2)\n",
    "poly.fit_transform(X_train)"
   ]
  },
  {
   "cell_type": "code",
   "execution_count": 5,
   "metadata": {},
   "outputs": [
    {
     "name": "stdout",
     "output_type": "stream",
     "text": [
      "Question 1\n"
     ]
    },
    {
     "ename": "AttributeError",
     "evalue": "'PolynomialFeatures' object has no attribute 'predict'",
     "output_type": "error",
     "traceback": [
      "\u001b[1;31m---------------------------------------------------------------------------\u001b[0m",
      "\u001b[1;31mAttributeError\u001b[0m                            Traceback (most recent call last)",
      "\u001b[1;32m<ipython-input-5-1f437bd7e2af>\u001b[0m in \u001b[0;36m<module>\u001b[1;34m\u001b[0m\n\u001b[0;32m      4\u001b[0m \u001b[0mclf\u001b[0m \u001b[1;33m=\u001b[0m \u001b[0mPolynomialFeatures\u001b[0m\u001b[1;33m(\u001b[0m\u001b[1;36m2\u001b[0m\u001b[1;33m)\u001b[0m\u001b[1;33m\u001b[0m\u001b[1;33m\u001b[0m\u001b[0m\n\u001b[0;32m      5\u001b[0m \u001b[0mclf\u001b[0m\u001b[1;33m.\u001b[0m\u001b[0mfit\u001b[0m\u001b[1;33m(\u001b[0m\u001b[0mX_train\u001b[0m\u001b[1;33m,\u001b[0m \u001b[0my_train\u001b[0m\u001b[1;33m)\u001b[0m\u001b[1;33m\u001b[0m\u001b[1;33m\u001b[0m\u001b[0m\n\u001b[1;32m----> 6\u001b[1;33m \u001b[0my_pred\u001b[0m \u001b[1;33m=\u001b[0m \u001b[0mclf\u001b[0m\u001b[1;33m.\u001b[0m\u001b[0mpredict\u001b[0m\u001b[1;33m(\u001b[0m\u001b[0mdf2019\u001b[0m\u001b[1;33m[\u001b[0m\u001b[1;33m[\u001b[0m\u001b[1;34m'Mean'\u001b[0m\u001b[1;33m,\u001b[0m \u001b[1;34m'SD'\u001b[0m\u001b[1;33m]\u001b[0m\u001b[1;33m]\u001b[0m\u001b[1;33m)\u001b[0m\u001b[1;33m\u001b[0m\u001b[1;33m\u001b[0m\u001b[0m\n\u001b[0m\u001b[0;32m      7\u001b[0m \u001b[0my_true\u001b[0m \u001b[1;33m=\u001b[0m \u001b[0mnp\u001b[0m\u001b[1;33m.\u001b[0m\u001b[0marray\u001b[0m\u001b[1;33m(\u001b[0m\u001b[0mdf2019\u001b[0m\u001b[1;33m[\u001b[0m\u001b[1;34m'Label'\u001b[0m\u001b[1;33m]\u001b[0m\u001b[1;33m)\u001b[0m\u001b[1;33m\u001b[0m\u001b[1;33m\u001b[0m\u001b[0m\n\u001b[0;32m      8\u001b[0m \u001b[0myAcc\u001b[0m \u001b[1;33m=\u001b[0m \u001b[0maccuracy_score\u001b[0m\u001b[1;33m(\u001b[0m\u001b[0my_true\u001b[0m\u001b[1;33m,\u001b[0m \u001b[0my_pred\u001b[0m\u001b[1;33m)\u001b[0m\u001b[1;33m\u001b[0m\u001b[1;33m\u001b[0m\u001b[0m\n",
      "\u001b[1;31mAttributeError\u001b[0m: 'PolynomialFeatures' object has no attribute 'predict'"
     ]
    }
   ],
   "source": [
    "y_pred = clf.predict(df2019[['Mean', 'SD']])\n",
    "y_true = np.array(df2019['Label'])\n",
    "yAcc = accuracy_score(y_true, y_pred)\n",
    "\n",
    "print('accuracy = ', round(yAcc*100,2),'%')"
   ]
  },
  {
   "cell_type": "code",
   "execution_count": 5,
   "metadata": {},
   "outputs": [
    {
     "name": "stdout",
     "output_type": "stream",
     "text": [
      "Question 2\n",
      "[[ 0 24]\n",
      " [ 0 28]]\n"
     ]
    }
   ],
   "source": [
    "#Question 2\n",
    "print('Question 2')\n",
    "cf = confusion_matrix(df2019['Label'], y_pred)\n",
    "\n",
    "print(cf)"
   ]
  },
  {
   "cell_type": "code",
   "execution_count": 6,
   "metadata": {},
   "outputs": [
    {
     "name": "stdout",
     "output_type": "stream",
     "text": [
      "\n",
      "Question 3\n",
      "True positive rate = 53.85 %\n",
      "True negative rate = 0.0 %\n"
     ]
    }
   ],
   "source": [
    "print('\\nQuestion 3')\n",
    "tn, fp, fn, tp  = cf.ravel()\n",
    "print('True positive rate =',round(tp/len(df2019)*100,2),'%')\n",
    "print('True negative rate =',round(tn/len(df2019)*100,2),'%')\n"
   ]
  },
  {
   "cell_type": "code",
   "execution_count": 7,
   "metadata": {},
   "outputs": [
    {
     "name": "stdout",
     "output_type": "stream",
     "text": [
      "\n",
      "Question 4\n",
      "Buy and Hold profit =  [-5487.43]\n",
      "Trading based on new labels = 5216.354845490856\n",
      "Use logistic regression labels\n"
     ]
    },
    {
     "name": "stderr",
     "output_type": "stream",
     "text": [
      "c:\\python37\\lib\\site-packages\\ipykernel_launcher.py:4: SettingWithCopyWarning: \n",
      "A value is trying to be set on a copy of a slice from a DataFrame.\n",
      "Try using .loc[row_indexer,col_indexer] = value instead\n",
      "\n",
      "See the caveats in the documentation: http://pandas.pydata.org/pandas-docs/stable/user_guide/indexing.html#returning-a-view-versus-a-copy\n",
      "  after removing the cwd from sys.path.\n"
     ]
    }
   ],
   "source": [
    "#Question 4\n",
    "print('\\nQuestion 4')\n",
    "df2019New = df2019\n",
    "df2019New['Label'] = y_pred\n",
    "\n",
    "closeValues = df2019[['Close']].values\n",
    "buyHold = closeValues[0]- closeValues[-1] * 100\n",
    "\n",
    "# label trade\n",
    "position = None\n",
    "money = 100\n",
    "shares = 0\n",
    "totalBalance = 0\n",
    "for index, row in df2019New.iterrows():\n",
    "    label = row['Label']\n",
    "    if label == 'Good':\n",
    "        if position == None:\n",
    "            shares = money / float(row['Close'])\n",
    "            position = 'Hold'\n",
    "    else:\n",
    "        if position == 'Hold':\n",
    "            money = shares * float(row['Close'])\n",
    "            position = None\n",
    "\n",
    "    totalBalance += money\n",
    "\n",
    "totalBalance += shares * float(df2019New[-1:]['Close'])\n",
    "\n",
    "print('Buy and Hold profit = ',buyHold)\n",
    "print('Trading based on new labels =',totalBalance-100)\n",
    "\n",
    "if buyHold > (totalBalance-100):\n",
    "    print('Use Buy and hold')\n",
    "\n",
    "else:\n",
    "    print('Use logistic regression labels')"
   ]
  },
  {
   "cell_type": "code",
   "execution_count": null,
   "metadata": {},
   "outputs": [],
   "source": []
  }
 ],
 "metadata": {
  "kernelspec": {
   "display_name": "Python 3",
   "language": "python",
   "name": "python3"
  },
  "language_info": {
   "codemirror_mode": {
    "name": "ipython",
    "version": 3
   },
   "file_extension": ".py",
   "mimetype": "text/x-python",
   "name": "python",
   "nbconvert_exporter": "python",
   "pygments_lexer": "ipython3",
   "version": "3.7.4"
  }
 },
 "nbformat": 4,
 "nbformat_minor": 2
}
